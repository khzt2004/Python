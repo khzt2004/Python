{
 "cells": [
  {
   "cell_type": "code",
   "execution_count": null,
   "metadata": {
    "collapsed": true
   },
   "outputs": [],
   "source": [
    "%matplotlib inline\n",
    "import pymc3 as pm\n",
    "import seaborn as sb\n",
    "from theano import config\n",
    "config.warn.round=False\n",
    "\n",
    "n = 1000\n",
    "obs_v1 = 680\n",
    "obs_v2 = 700\n",
    "\n",
    "with pm.Model() as model: # context management\n",
    "    # define priors\n",
    "    prior_v1 = pm.Beta('prior_v1', alpha=2, beta=2)\n",
    "    prior_v2 = pm.Beta('prior_v2', alpha=2, beta=2)\n",
    "\n",
    "    # define likelihood\n",
    "    like_v1 = pm.Binomial('like_v1', n=n, p=prior_v1, observed=obs_v1)\n",
    "    like_v2 = pm.Binomial('like_v2', n=n, p=prior_v2, observed=obs_v2)\n",
    "    \n",
    "    # define metrics\n",
    "    pm.Deterministic('difference', prior_v2 - prior_v1)\n",
    "    pm.Deterministic('relation', (prior_v2/prior_v1) - 1)\n",
    "\n",
    "    # inference\n",
    "    trace = pm.sample(draws=50000, step=pm.Metropolis(), start=pm.find_MAP(), progressbar=True)\n"
   ]
  },
  {
   "cell_type": "code",
   "execution_count": null,
   "metadata": {
    "collapsed": true
   },
   "outputs": [],
   "source": [
    "_ = pm.traceplot(trace[1000:], grid=True)"
   ]
  },
  {
   "cell_type": "code",
   "execution_count": null,
   "metadata": {
    "collapsed": true
   },
   "outputs": [],
   "source": [
    "_ = pm.plot_posterior(trace[1000:], varnames=['difference', 'relation'], \n",
    "                      ref_val=0, color='#87ceeb')"
   ]
  }
 ],
 "metadata": {
  "kernelspec": {
   "display_name": "Python 2",
   "language": "python",
   "name": "python2"
  },
  "language_info": {
   "codemirror_mode": {
    "name": "ipython",
    "version": 2
   },
   "file_extension": ".py",
   "mimetype": "text/x-python",
   "name": "python",
   "nbconvert_exporter": "python",
   "pygments_lexer": "ipython2",
   "version": "2.7.10"
  }
 },
 "nbformat": 4,
 "nbformat_minor": 0
}
