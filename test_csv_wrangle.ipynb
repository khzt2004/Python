{
 "cells": [
  {
   "cell_type": "code",
   "execution_count": 37,
   "metadata": {},
   "outputs": [],
   "source": [
    "import pandas as pd\n",
    "import numpy as np"
   ]
  },
  {
   "cell_type": "code",
   "execution_count": 62,
   "metadata": {},
   "outputs": [],
   "source": [
    "df = pd.read_csv(\"testcsv_export.csv\")\n",
    "df = df\n",
    "df.columns = ['date', 'colA', 'colB', 'colC', 'colD', 'colE', 'colF', 'colG']"
   ]
  },
  {
   "cell_type": "code",
   "execution_count": 63,
   "metadata": {},
   "outputs": [],
   "source": [
    "df_list = np.split(df, df[df.isnull().all(1)].index) "
   ]
  },
  {
   "cell_type": "code",
   "execution_count": 64,
   "metadata": {},
   "outputs": [
    {
     "data": {
      "text/plain": [
       "[    date    colA colB colC colD colE colF colG\n",
       " 0  value  999.99  NaN  NaN  NaN  NaN  NaN  NaN,\n",
       "   date colA colB colC colD colE colF colG\n",
       " 1  NaN  NaN  NaN  NaN  NaN  NaN  NaN  NaN,\n",
       "         date  colA  colB  colC  colD  colE  colF  colG\n",
       " 2        NaN   NaN   NaN   NaN   NaN   NaN   NaN   NaN\n",
       " 3   10grades   NaN   NaN   NaN   NaN   NaN   NaN   NaN\n",
       " 4        NaN  colA  colB  colC  colD  colE  colF  colG\n",
       " 5        NaN  7123  5070  5181  4345  1216  4581  2570\n",
       " 6        NaN  7983  6689  4700  5224  4858  3640  1835\n",
       " 7        NaN  9525  6512  4689  1941  6953   311  8139\n",
       " 8        NaN  9420  8949  1358  3758  9392  5475  1842\n",
       " 9        NaN  7186  1935  4893  5291  8758  1733  3951\n",
       " 10       NaN  7888  9703  4045  6205  7961  5062  5758\n",
       " 11       NaN  7660  3281  9990  5215  8846  9538  1609\n",
       " 12       NaN  7547  2267  5089  9827  5612  7668  3615\n",
       " 13       NaN  2608  3602  4439   234   876   489  6171\n",
       " 14       NaN  5219  4513  8266  5968  5950  5023  4027\n",
       " 15       NaN  3398  4159  2600  5431  2104  9100  8564\n",
       " 16       NaN  9926  5739  4077  2320  2867  7456  9114\n",
       " 17       NaN  3706  2881  6071  4233  8492  1975  7956,\n",
       "    date colA colB colC colD colE colF colG\n",
       " 18  NaN  NaN  NaN  NaN  NaN  NaN  NaN  NaN,\n",
       "         date  colA  colB  colC  colD  colE  colF  colG\n",
       " 19       NaN   NaN   NaN   NaN   NaN   NaN   NaN   NaN\n",
       " 20  17grades   NaN   NaN   NaN   NaN   NaN   NaN   NaN\n",
       " 21       NaN  colA  colB  colC  colD  colE  colF  colG\n",
       " 22       NaN  2361  9676  9382  3470  4662  1249  5222\n",
       " 23       NaN  3389   327  2988  1956  3828  2138  3434\n",
       " 24       NaN  7042  6839   273  3106  7728  1997   994\n",
       " 25       NaN  3317  6284  1070  9174  4847  6654  3990\n",
       " 26       NaN  4503  4207  7501  7734  7455  5835  4439\n",
       " 27       NaN  1743  2955  4159  8880  3658  8493  1306\n",
       " 28       NaN  8050  4485  4308  4544  1763  1052  8890\n",
       " 29       NaN   499  9879  8304  6288  5012  5299  9753\n",
       " 30       NaN  5339  8048  9772  5800  4213  6167  5946\n",
       " 31       NaN  4929  2107   929  1556  8747  3037  6930\n",
       " 32       NaN  5991  3810  6770  5980  1124  4367  1289\n",
       " 33       NaN  3215  7326  4024  5121  2417  2473  1660\n",
       " 34       NaN  1315  1826  8345   818  1522   874  9658\n",
       " 35       NaN  4315   583  7268  3931  4314  4947    15\n",
       " 36       NaN  7226  1093  5930   903   274  6800  4099,\n",
       "         date  colA  colB  colC  colD  colE  colF  colG\n",
       " 37       NaN   NaN   NaN   NaN   NaN   NaN   NaN   NaN\n",
       " 38  24grades   NaN   NaN   NaN   NaN   NaN   NaN   NaN\n",
       " 39       NaN  colA  colB  colC  colD  colE  colF  colG\n",
       " 40       NaN  6731  5328  5143  6283  6459   358  3353\n",
       " 41       NaN  5424  7410  2215  3450  7302  8531  3306\n",
       " 42       NaN    99  7964  5680  9081   254  3137   415\n",
       " 43       NaN  1978  2302  4720  5974  7805  3190  3916\n",
       " 44       NaN  5851  1335  8313   130  7226  3444  1515\n",
       " 45       NaN  3235  9813  9509  4398  9648  4518  7416\n",
       " 46       NaN  6687  8123  5731  8598  4349  8630  8560\n",
       " 47       NaN  9466  7475  6704  7888   451  9052   135\n",
       " 48       NaN  6177  5684  5272  4033  1396  8037  7613\n",
       " 49       NaN  2734  3566  8060  2838  5953  5197  8701\n",
       " 50       NaN  4730  6463  6115  7867  1215  3405  9119,\n",
       "    date colA colB colC colD colE colF colG\n",
       " 51  NaN  NaN  NaN  NaN  NaN  NaN  NaN  NaN,\n",
       "    date colA colB colC colD colE colF colG\n",
       " 52  NaN  NaN  NaN  NaN  NaN  NaN  NaN  NaN,\n",
       "         date  colA  colB  colC  colD  colE  colF  colG\n",
       " 53       NaN   NaN   NaN   NaN   NaN   NaN   NaN   NaN\n",
       " 54  31grades   NaN   NaN   NaN   NaN   NaN   NaN   NaN\n",
       " 55       NaN  colA  colB  colC  colD  colE  colF  colG\n",
       " 56       NaN  3687  7199  4159  1205  8249  6508  1041\n",
       " 57       NaN  5199  7782  6180  6016  7465  5563  8639\n",
       " 58       NaN  8392  7192  1431  3290  5540  9859  5000\n",
       " 59       NaN  6660   610  9559  9036  3275  2327   318\n",
       " 60       NaN  9608  3405   881   411  7402  8335  8191\n",
       " 61       NaN  6895  1638  8954  5034  3518  7713   497\n",
       " 62       NaN  2448  5487  7307  3786  2193  6082  2639\n",
       " 63       NaN  9942  3402  1074  9670  7027  2983   470\n",
       " 64       NaN  2494  6850  9985  9042  2187  1605  6614\n",
       " 65       NaN  4304  8685  3125  1436  4650  3144  4338\n",
       " 66       NaN   651  2396   651  6058   891   700  4582]"
      ]
     },
     "execution_count": 64,
     "metadata": {},
     "output_type": "execute_result"
    }
   ],
   "source": [
    "df_list"
   ]
  },
  {
   "cell_type": "code",
   "execution_count": null,
   "metadata": {},
   "outputs": [],
   "source": []
  }
 ],
 "metadata": {
  "kernelspec": {
   "display_name": "Python 3",
   "language": "python",
   "name": "python3"
  },
  "language_info": {
   "codemirror_mode": {
    "name": "ipython",
    "version": 3
   },
   "file_extension": ".py",
   "mimetype": "text/x-python",
   "name": "python",
   "nbconvert_exporter": "python",
   "pygments_lexer": "ipython3",
   "version": "3.7.5"
  }
 },
 "nbformat": 4,
 "nbformat_minor": 4
}
