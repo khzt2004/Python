{
 "cells": [
  {
   "cell_type": "markdown",
   "metadata": {},
   "source": [
    "## Frequentist A/B Testing ##"
   ]
  },
  {
   "cell_type": "code",
   "execution_count": 1,
   "metadata": {},
   "outputs": [],
   "source": [
    "import numpy as np\n",
    "import matplotlib.pyplot as plt\n",
    "import scipy.stats as scs\n",
    "\n",
    "def z_val(sig_level=0.05, two_tailed=True):\n",
    "    \"\"\"Returns the z value for a given significance level\"\"\"\n",
    "    z_dist = scs.norm()\n",
    "    if two_tailed:\n",
    "        sig_level = sig_level/2\n",
    "        area = 1 - sig_level\n",
    "    else:\n",
    "        area = 1 - sig_level\n",
    "\n",
    "    z = z_dist.ppf(area)\n",
    "\n",
    "    return z\n",
    "  \n",
    "  \n",
    "def zplot(area=0.95, two_tailed=True, align_right=False):\n",
    "    \"\"\"Plots a z distribution with common annotations\n",
    "    Example:\n",
    "        zplot(area=0.95)\n",
    "        zplot(area=0.80, two_tailed=False, align_right=True)\n",
    "    Parameters:\n",
    "        area (float): The area under the standard normal distribution curve.\n",
    "        align (str): The area under the curve can be aligned to the center\n",
    "            (default) or to the left.\n",
    "    Returns:\n",
    "        None: A plot of the normal distribution with annotations showing the\n",
    "        area under the curve and the boundaries of the area.\n",
    "    \"\"\"\n",
    "    # create plot object\n",
    "    fig = plt.figure(figsize=(12, 6))\n",
    "    ax = fig.subplots()\n",
    "    # create normal distribution\n",
    "    norm = scs.norm()\n",
    "    # create data points to plot\n",
    "    x = np.linspace(-5, 5, 1000)\n",
    "    y = norm.pdf(x)\n",
    "\n",
    "    ax.plot(x, y)\n",
    "\n",
    "    # code to fill areas for two-tailed tests\n",
    "    if two_tailed:\n",
    "        left = norm.ppf(0.5 - area / 2)\n",
    "        right = norm.ppf(0.5 + area / 2)\n",
    "        ax.vlines(right, 0, norm.pdf(right), color='grey', linestyle='--')\n",
    "        ax.vlines(left, 0, norm.pdf(left), color='grey', linestyle='--')\n",
    "\n",
    "        ax.fill_between(x, 0, y, color='grey', alpha='0.25',\n",
    "                        where=(x > left) & (x < right))\n",
    "        plt.xlabel('z')\n",
    "        plt.ylabel('PDF')\n",
    "        plt.text(left, norm.pdf(left), \"z = {0:.3f}\".format(left), fontsize=12,\n",
    "                 rotation=90, va=\"bottom\", ha=\"right\")\n",
    "        plt.text(right, norm.pdf(right), \"z = {0:.3f}\".format(right),\n",
    "                 fontsize=12, rotation=90, va=\"bottom\", ha=\"left\")\n",
    "    # for one-tailed tests\n",
    "    else:\n",
    "        # align the area to the right\n",
    "        if align_right:\n",
    "            left = norm.ppf(1-area)\n",
    "            ax.vlines(left, 0, norm.pdf(left), color='grey', linestyle='--')\n",
    "            ax.fill_between(x, 0, y, color='grey', alpha='0.25',\n",
    "                            where=x > left)\n",
    "            plt.text(left, norm.pdf(left), \"z = {0:.3f}\".format(left),\n",
    "                     fontsize=12, rotation=90, va=\"bottom\", ha=\"right\")\n",
    "        # align the area to the left\n",
    "        else:\n",
    "            right = norm.ppf(area)\n",
    "            ax.vlines(right, 0, norm.pdf(right), color='grey', linestyle='--')\n",
    "            ax.fill_between(x, 0, y, color='grey', alpha='0.25',\n",
    "                            where=x < right)\n",
    "            plt.text(right, norm.pdf(right), \"z = {0:.3f}\".format(right),\n",
    "                     fontsize=12, rotation=90, va=\"bottom\", ha=\"left\")\n",
    "\n",
    "    # annotate the shaded area\n",
    "    plt.text(0, 0.1, \"shaded area = {0:.3f}\".format(area), fontsize=12,\n",
    "             ha='center')\n",
    "    # axis labels\n",
    "    plt.xlabel('z')\n",
    "    plt.ylabel('PDF')\n",
    "\n",
    "    plt.show()"
   ]
  },
  {
   "cell_type": "code",
   "execution_count": 3,
   "metadata": {},
   "outputs": [
    {
     "data": {
      "image/png": "[encoded data removed]",
      "text/plain": [
       "<Figure size 864x432 with 1 Axes>"
      ]
     },
     "metadata": {
      "needs_background": "light"
     },
     "output_type": "display_data"
    }
   ],
   "source": [
    "zplot()"
   ]
  },
  {
   "cell_type": "code",
   "execution_count": 5,
   "metadata": {},
   "outputs": [
    {
     "ename": "ModuleNotFoundError",
     "evalue": "No module named 'scs'",
     "output_type": "error",
     "traceback": [
      "\u001b[1;31m---------------------------------------------------------------------------\u001b[0m",
      "\u001b[1;31mModuleNotFoundError\u001b[0m                       Traceback (most recent call last)",
      "\u001b[1;32m<ipython-input-5-bed613e1db7b>\u001b[0m in \u001b[0;36m<module>\u001b[1;34m\u001b[0m\n\u001b[0;32m      4\u001b[0m \u001b[1;32mimport\u001b[0m \u001b[0mscipy\u001b[0m\u001b[1;33m.\u001b[0m\u001b[0mstats\u001b[0m \u001b[1;32mas\u001b[0m \u001b[0mscs\u001b[0m\u001b[1;33m\u001b[0m\u001b[1;33m\u001b[0m\u001b[0m\n\u001b[0;32m      5\u001b[0m \u001b[1;33m\u001b[0m\u001b[0m\n\u001b[1;32m----> 6\u001b[1;33m \u001b[1;32mfrom\u001b[0m \u001b[0mscs\u001b[0m \u001b[1;32mimport\u001b[0m \u001b[0mpooled_SE\u001b[0m\u001b[1;33m,\u001b[0m \u001b[0mconfidence_interval\u001b[0m\u001b[1;33m,\u001b[0m \u001b[0mab_dist\u001b[0m\u001b[1;33m,\u001b[0m \u001b[0mp_val\u001b[0m\u001b[1;33m,\u001b[0m \u001b[0mz_val\u001b[0m\u001b[1;33m\u001b[0m\u001b[1;33m\u001b[0m\u001b[0m\n\u001b[0m\u001b[0;32m      7\u001b[0m \u001b[1;33m\u001b[0m\u001b[0m\n\u001b[0;32m      8\u001b[0m \u001b[0mplt\u001b[0m\u001b[1;33m.\u001b[0m\u001b[0mstyle\u001b[0m\u001b[1;33m.\u001b[0m\u001b[0muse\u001b[0m\u001b[1;33m(\u001b[0m\u001b[1;34m'ggplot'\u001b[0m\u001b[1;33m)\u001b[0m\u001b[1;33m\u001b[0m\u001b[1;33m\u001b[0m\u001b[0m\n",
      "\u001b[1;31mModuleNotFoundError\u001b[0m: No module named 'scs'"
     ]
    }
   ],
   "source": [
    "import numpy as np\n",
    "import matplotlib.pyplot as plt\n",
    "# import pandas as pd\n",
    "import scipy.stats as scs\n",
    "\n",
    "from scs import pooled_SE, confidence_interval, ab_dist, p_val, z_val\n",
    "\n",
    "plt.style.use('ggplot')\n",
    "\n",
    "\n",
    "def plot_norm_dist(ax, mu, sig, with_CI=False, sig_level=0.05, label=None):\n",
    "    \"\"\"Adds a normal distribution to the axes provided\n",
    "    Example:\n",
    "        plot_norm_dist(ax, 0, 1)  # plots a standard normal distribution\n",
    "    Parameters:\n",
    "        ax (matplotlib axes)\n",
    "        mu (float): mean of the normal distribution\n",
    "        sig (float): standard deviation of the normal distribution\n",
    "    Returns:\n",
    "        None: the function adds a plot to the axes object provided\n",
    "    \"\"\"\n",
    "    x = np.linspace(mu - 12 * sig, mu + 12 * sig, 1000)\n",
    "    y = scs.norm(mu, sig).pdf(x)\n",
    "    ax.plot(x, y, label=label)\n",
    "\n",
    "    if with_CI:\n",
    "        plot_CI(ax, mu, sig, sig_level=sig_level)\n",
    "\n",
    "\n",
    "def plot_binom_dist(ax, n, p, label=None):\n",
    "    \"\"\"Adds a binomial distribution to the axes provided\n",
    "    Example:\n",
    "        plot_norm_dist(ax, 0, 1)  # plots a standard normal distribution\n",
    "    Parameters:\n",
    "        ax (matplotlib axes)\n",
    "        mu (float): mean of the normal distribution\n",
    "        sig (float): standard deviation of the normal distribution\n",
    "    Returns:\n",
    "        None: the function adds a plot to the axes object provided\n",
    "    \"\"\"\n",
    "    x = np.linspace(0, n, n+1)\n",
    "    y = scs.binom(n, p).pmf(x)\n",
    "    ax.plot(x, y, label=label)\n",
    "\n",
    "\n",
    "def plot_CI(ax, mu, s, sig_level=0.05, color='grey'):\n",
    "    \"\"\"Calculates the two-tailed confidence interval and adds the plot to\n",
    "    an axes object.\n",
    "    Example:\n",
    "        plot_CI(ax, mu=0, s=stderr, sig_level=0.05)\n",
    "    Parameters:\n",
    "        ax (matplotlib axes)\n",
    "        mu (float): mean\n",
    "        s (float): standard deviation\n",
    "    Returns:\n",
    "        None: the function adds a plot to the axes object provided\n",
    "    \"\"\"\n",
    "    # z = scs.norm().ppf(1 - sig_level/2)\n",
    "    # left = mu - z * s\n",
    "    # right = mu + z * s\n",
    "    left, right = confidence_interval(sample_mean=mu, sample_std=s,\n",
    "                                      sig_level=sig_level)\n",
    "    ax.axvline(left, c=color, linestyle='--', alpha=0.5)\n",
    "    ax.axvline(right, c=color, linestyle='--', alpha=0.5)\n",
    "\n",
    "\n",
    "def plot_null(ax, stderr):\n",
    "    \"\"\"Plots the null hypothesis distribution where if there is no real change,\n",
    "    the distribution of the differences between the test and the control groups\n",
    "    will be normally distributed.\n",
    "    The confidence band is also plotted.\n",
    "    Example:\n",
    "        plot_null(ax, stderr)\n",
    "    Parameters:\n",
    "        ax (matplotlib axes)\n",
    "        stderr (float): the pooled standard error of the control and test group\n",
    "    Returns:\n",
    "        None: the function adds a plot to the axes object provided\n",
    "    \"\"\"\n",
    "    plot_norm_dist(ax, 0, stderr, label=\"Null\")\n",
    "    plot_CI(ax, mu=0, s=stderr, sig_level=0.05)\n",
    "\n",
    "\n",
    "def plot_alt(ax, stderr, d_hat):\n",
    "    \"\"\"Plots the alternative hypothesis distribution where if there is a real\n",
    "    change, the distribution of the differences between the test and the\n",
    "    control groups will be normally distributed and centered around d_hat\n",
    "    The confidence band is also plotted.\n",
    "    Example:\n",
    "        plot_alt(ax, stderr, d_hat=0.025)\n",
    "    Parameters:\n",
    "        ax (matplotlib axes)\n",
    "        stderr (float): the pooled standard error of the control and test group\n",
    "    Returns:\n",
    "        None: the function adds a plot to the axes object provided\n",
    "    \"\"\"\n",
    "    plot_norm_dist(ax, d_hat, stderr, label=\"Alternative\")\n",
    "    # plot_CI(ax, mu=d_hat, s=stderr, sig_level=0.05)\n",
    "\n",
    "\n",
    "def abplot(N_A, N_B, bcr, d_hat, sig_level=0.05, show_power=False,\n",
    "           show_alpha=False, show_beta=False, show_p_value=False,\n",
    "           show_legend=True):\n",
    "    \"\"\"Example plot of AB test\n",
    "    Example:\n",
    "        abplot(n=4000, bcr=0.11, d_hat=0.03)\n",
    "    Parameters:\n",
    "        n (int): total sample size for both control and test groups (N_A + N_B)\n",
    "        bcr (float): base conversion rate; conversion rate of control\n",
    "        d_hat: difference in conversion rate between the control and test\n",
    "            groups, sometimes referred to as **minimal detectable effect** when\n",
    "            calculating minimum sample size or **lift** when discussing\n",
    "            positive improvement desired from launching a change.\n",
    "    Returns:\n",
    "        None: the function plots an AB test as two distributions for\n",
    "        visualization purposes\n",
    "    \"\"\"\n",
    "    # create a plot object\n",
    "    fig, ax = plt.subplots(figsize=(12, 6))\n",
    "\n",
    "    # define parameters to find pooled standard error\n",
    "    X_A = bcr * N_A\n",
    "    X_B = (bcr + d_hat) * N_B\n",
    "    stderr = pooled_SE(N_A, N_B, X_A, X_B)\n",
    "\n",
    "    # plot the distribution of the null and alternative hypothesis\n",
    "    plot_null(ax, stderr)\n",
    "    plot_alt(ax, stderr, d_hat)\n",
    "\n",
    "    # set extent of plot area\n",
    "    ax.set_xlim(-3 * d_hat, 3 * d_hat)\n",
    "\n",
    "    # shade areas according to user input\n",
    "    if show_power:\n",
    "        show_area(ax, d_hat, stderr, sig_level, area_type='power')\n",
    "    if show_alpha:\n",
    "        show_area(ax, d_hat, stderr, sig_level, area_type='alpha')\n",
    "    if show_beta:\n",
    "        show_area(ax, d_hat, stderr, sig_level, area_type='beta')\n",
    "\n",
    "    # show p_value based on the binomial distributions for the two groups\n",
    "    if show_p_value:\n",
    "        null = ab_dist(stderr, 'control')\n",
    "        p_val = p_value(N_A, N_B, bcr, bcr+d_hat)\n",
    "        ax.text(3 * stderr, null.pdf(0),\n",
    "                'p-value = {0:.3f}'.format(p_val),\n",
    "                fontsize=12, ha='left')\n",
    "\n",
    "    # option to show legend\n",
    "    if show_legend:\n",
    "        plt.legend()\n",
    "\n",
    "    plt.xlabel('d')\n",
    "    plt.ylabel('PDF')\n",
    "    plt.show()\n",
    "\n",
    "\n",
    "def show_area(ax, d_hat, stderr, sig_level, area_type='power'):\n",
    "    \"\"\"Fill between upper significance boundary and distribution for\n",
    "    alternative hypothesis\n",
    "    \"\"\"\n",
    "    left, right = confidence_interval(sample_mean=0, sample_std=stderr,\n",
    "                                      sig_level=sig_level)\n",
    "    x = np.linspace(-12 * stderr, 12 * stderr, 1000)\n",
    "    null = ab_dist(stderr, 'control')\n",
    "    alternative = ab_dist(stderr, d_hat, 'test')\n",
    "\n",
    "    # if area_type is power\n",
    "    # Fill between upper significance boundary and distribution for alternative\n",
    "    # hypothesis\n",
    "    if area_type == 'power':\n",
    "        ax.fill_between(x, 0, alternative.pdf(x), color='green', alpha='0.25',\n",
    "                        where=(x > right))\n",
    "        ax.text(-3 * stderr, null.pdf(0),\n",
    "                'power = {0:.3f}'.format(1 - alternative.cdf(right)),\n",
    "                fontsize=12, ha='right', color='k')\n",
    "\n",
    "    # if area_type is alpha\n",
    "    # Fill between upper significance boundary and distribution for null\n",
    "    # hypothesis\n",
    "    if area_type == 'alpha':\n",
    "        ax.fill_between(x, 0, null.pdf(x), color='green', alpha='0.25',\n",
    "                        where=(x > right))\n",
    "        ax.text(-3 * stderr, null.pdf(0),\n",
    "                'alpha = {0:.3f}'.format(1 - null.cdf(right)),\n",
    "                fontsize=12, ha='right', color='k')\n",
    "\n",
    "    # if area_type is beta\n",
    "    # Fill between distribution for alternative hypothesis and upper\n",
    "    # significance boundary\n",
    "    if area_type == 'beta':\n",
    "        ax.fill_between(x, 0, alternative.pdf(x), color='green', alpha='0.25',\n",
    "                        where=(x < right))\n",
    "        ax.text(-3 * stderr, null.pdf(0),\n",
    "                'beta = {0:.3f}'.format(alternative.cdf(right)),\n",
    "                fontsize=12, ha='right', color='k')\n",
    "\n",
    "\n",
    "def zplot(area=0.95, two_tailed=True, align_right=False):\n",
    "    \"\"\"Plots a z distribution with common annotations\n",
    "    Example:\n",
    "        zplot(area=0.95)\n",
    "        zplot(area=0.80, two_tailed=False, align_right=True)\n",
    "    Parameters:\n",
    "        area (float): The area under the standard normal distribution curve.\n",
    "        align (str): The area under the curve can be aligned to the center\n",
    "            (default) or to the left.\n",
    "    Returns:\n",
    "        None: A plot of the normal distribution with annotations showing the\n",
    "        area under the curve and the boundaries of the area.\n",
    "    \"\"\"\n",
    "    # create plot object\n",
    "    fig = plt.figure(figsize=(12, 6))\n",
    "    ax = fig.subplots()\n",
    "    # create normal distribution\n",
    "    norm = scs.norm()\n",
    "    # create data points to plot\n",
    "    x = np.linspace(-5, 5, 1000)\n",
    "    y = norm.pdf(x)\n",
    "\n",
    "    ax.plot(x, y)\n",
    "\n",
    "    # code to fill areas\n",
    "    # for two-tailed tests\n",
    "    if two_tailed:\n",
    "        left = norm.ppf(0.5 - area / 2)\n",
    "        right = norm.ppf(0.5 + area / 2)\n",
    "        ax.vlines(right, 0, norm.pdf(right), color='grey', linestyle='--')\n",
    "        ax.vlines(left, 0, norm.pdf(left), color='grey', linestyle='--')\n",
    "\n",
    "        ax.fill_between(x, 0, y, color='grey', alpha='0.25',\n",
    "                        where=(x > left) & (x < right))\n",
    "        plt.xlabel('z')\n",
    "        plt.ylabel('PDF')\n",
    "        plt.text(left, norm.pdf(left), \"z = {0:.3f}\".format(left), fontsize=12,\n",
    "                 rotation=90, va=\"bottom\", ha=\"right\")\n",
    "        plt.text(right, norm.pdf(right), \"z = {0:.3f}\".format(right),\n",
    "                 fontsize=12, rotation=90, va=\"bottom\", ha=\"left\")\n",
    "    # for one-tailed tests\n",
    "    else:\n",
    "        # align the area to the right\n",
    "        if align_right:\n",
    "            left = norm.ppf(1-area)\n",
    "            ax.vlines(left, 0, norm.pdf(left), color='grey', linestyle='--')\n",
    "            ax.fill_between(x, 0, y, color='grey', alpha='0.25',\n",
    "                            where=x > left)\n",
    "            plt.text(left, norm.pdf(left), \"z = {0:.3f}\".format(left),\n",
    "                     fontsize=12, rotation=90, va=\"bottom\", ha=\"right\")\n",
    "        # align the area to the left\n",
    "        else:\n",
    "            right = norm.ppf(area)\n",
    "            ax.vlines(right, 0, norm.pdf(right), color='grey', linestyle='--')\n",
    "            ax.fill_between(x, 0, y, color='grey', alpha='0.25',\n",
    "                            where=x < right)\n",
    "            plt.text(right, norm.pdf(right), \"z = {0:.3f}\".format(right),\n",
    "                     fontsize=12, rotation=90, va=\"bottom\", ha=\"left\")\n",
    "\n",
    "    # annotate the shaded area\n",
    "    plt.text(0, 0.1, \"shaded area = {0:.3f}\".format(area), fontsize=12,\n",
    "             ha='center')\n",
    "    # axis labels\n",
    "    plt.xlabel('z')\n",
    "    plt.ylabel('PDF')\n",
    "\n",
    "    plt.show()\n",
    "\n",
    "\n",
    "def abplot_CI_bars(N, X, sig_level=0.05, dmin=None):\n",
    "    \"\"\"Returns a confidence interval bar plot for multivariate tests\n",
    "    Parameters:\n",
    "        N (list or tuple): sample size for all groups\n",
    "        X (list or tuple): number of conversions for each variant\n",
    "        sig_level (float): significance level\n",
    "        dmin (float): minimum desired lift; a red and green dashed lines are\n",
    "            shown on the plot if dmin is provided.\n",
    "    Returns:\n",
    "        None: A plot of the confidence interval bars is returned inline.\n",
    "    \"\"\"\n",
    "\n",
    "    # initiate plot object\n",
    "    fig, ax = plt.subplots(figsize=(12, 3))\n",
    "\n",
    "    # get control group values\n",
    "    N_A = N[0]\n",
    "    X_A = X[0]\n",
    "\n",
    "    # initiate containers for standard error and differences\n",
    "    SE = []\n",
    "    d = []\n",
    "    # iterate through X and N and calculate d and SE\n",
    "    for idx in range(1, len(N)):\n",
    "        X_B = X[idx]\n",
    "        N_B = N[idx]\n",
    "        d.append(X_B / N_B - X_A / N_A)\n",
    "        SE.append(pooled_SE(N_A, N_B, X_A, X_B))\n",
    "\n",
    "    # convert to numpy arrays\n",
    "    SE = np.array(SE)\n",
    "    d = np.array(d)\n",
    "\n",
    "    y = np.arange(len(N)-1)\n",
    "\n",
    "    # get z value\n",
    "    z = z_val(sig_level)\n",
    "    # confidence interval values\n",
    "    ci = SE * z\n",
    "\n",
    "    # bar to represent the confidence interval\n",
    "    ax.hlines(y, d-ci, d+ci, color='blue', alpha=0.35, lw=10, zorder=1)\n",
    "    # marker for the mean\n",
    "    ax.scatter(d, y, s=300, marker='|', lw=10, color='magenta', zorder=2)\n",
    "\n",
    "    # vertical line to represent 0\n",
    "    ax.axvline(0, c='grey', linestyle='-')\n",
    "\n",
    "    # plot veritcal dashed lines if dmin is provided\n",
    "    if dmin is not None:\n",
    "        ax.axvline(-dmin, c='red', linestyle='--', alpha=0.75)\n",
    "        ax.axvline(dmin, c='green', linestyle='--', alpha=0.75)\n",
    "\n",
    "    # invert y axis to show variant 1 at the top\n",
    "    ax.invert_yaxis()\n",
    "    # label variants on y axis\n",
    "    labels = ['variant{}'.format(idx+1) for idx in range(len(N)-1)]\n",
    "    plt.yticks(np.arange(len(N)-1), labels)\n",
    "\n",
    "\n",
    "def funnel_CI_plot(A, B, sig_level=0.05):\n",
    "    \"\"\"Returns a confidence interval bar plot for multivariate tests\n",
    "    Parameters:\n",
    "        A (list of tuples): (sample size, conversions) for control group funnel\n",
    "        B (list of tuples): (sample size, conversions) for test group funnel\n",
    "        sig_level (float): significance level\n",
    "    Returns:\n",
    "        None: A plot of the confidence interval bars is returned inline.\n",
    "    \"\"\"\n",
    "\n",
    "    # initiate plot object\n",
    "    fig, ax = plt.subplots(figsize=(12, 3))\n",
    "\n",
    "    # initiate containers for standard error and differences\n",
    "    SE = []\n",
    "    d = []\n",
    "    # iterate through X and N and calculate d and SE\n",
    "    for idx in range(len(A)):\n",
    "        X_A = A[idx][1]\n",
    "        N_A = A[idx][0]\n",
    "        X_B = B[idx][1]\n",
    "        N_B = B[idx][0]\n",
    "        d.append(X_B / N_B - X_A / N_A)\n",
    "        SE.append(pooled_SE(N_A, N_B, X_A, X_B))\n",
    "\n",
    "    # convert to numpy arrays\n",
    "    SE = np.array(SE)\n",
    "    d = np.array(d)\n",
    "    print(d)\n",
    "\n",
    "    y = np.arange(len(A))\n",
    "\n",
    "    # get z value\n",
    "    z = z_val(sig_level)\n",
    "    # confidence interval values\n",
    "    ci = SE * z\n",
    "\n",
    "    # bar to represent the confidence interval\n",
    "    ax.hlines(y, d-ci, d+ci, color='blue', alpha=0.35, lw=10, zorder=1)\n",
    "    # marker for the mean\n",
    "    ax.scatter(d, y, s=300, marker='|', lw=10, color='magenta', zorder=2)\n",
    "\n",
    "    # vertical line to represent 0\n",
    "    ax.axvline(0, c='grey', linestyle='-')\n",
    "\n",
    "    # invert y axis to show variant 1 at the top\n",
    "    ax.invert_yaxis()\n",
    "    # label variants on y axis\n",
    "    labels = ['metric{}'.format(idx+1) for idx in range(len(A))]\n",
    "    plt.yticks(np.arange(len(A)), labels)"
   ]
  },
  {
   "cell_type": "code",
   "execution_count": 6,
   "metadata": {},
   "outputs": [],
   "source": [
    "\n",
    "base_cr = 0.10\n",
    "d_hat = 0.02 # A relative increase of 20%\n",
    "\n",
    "N_A = 1000\n",
    "N_B = 1000"
   ]
  },
  {
   "cell_type": "code",
   "execution_count": 11,
   "metadata": {},
   "outputs": [],
   "source": [
    "import scipy.stats as scs\n",
    "import pandas as pd\n",
    "import numpy as np\n",
    "\n",
    "\n",
    "def generate_data(N_A, N_B, p_A, p_B, days=None, control_label='A',\n",
    "                  test_label='B'):\n",
    "    \"\"\"Returns a pandas dataframe with fake CTR data\n",
    "    Example:\n",
    "    Parameters:\n",
    "        N_A (int): sample size for control group\n",
    "        N_B (int): sample size for test group\n",
    "            Note: final sample size may not match N_A provided because the\n",
    "            group at each row is chosen at random (50/50).\n",
    "        p_A (float): conversion rate; conversion rate of control group\n",
    "        p_B (float): conversion rate; conversion rate of test group\n",
    "        days (int): optional; if provided, a column for 'ts' will be included\n",
    "            to divide the data in chunks of time\n",
    "            Note: overflow data will be included in an extra day\n",
    "        control_label (str)\n",
    "        test_label (str)\n",
    "    Returns:\n",
    "        df (df)\n",
    "    \"\"\"\n",
    "\n",
    "    # initiate empty container\n",
    "    data = []\n",
    "\n",
    "    # total amount of rows in the data\n",
    "    N = N_A + N_B\n",
    "\n",
    "    group_bern = scs.bernoulli(0.5)\n",
    "\n",
    "    # initiate bernoulli distributions to randomly sample from\n",
    "    A_bern = scs.bernoulli(p_A)\n",
    "    B_bern = scs.bernoulli(p_B)\n",
    "\n",
    "    for idx in range(N):\n",
    "        # initite empty row\n",
    "        row = {}\n",
    "        # for 'ts' column\n",
    "        if days is not None:\n",
    "            if type(days) == int:\n",
    "                row['ts'] = idx // (N // days)\n",
    "            else:\n",
    "                raise ValueError(\"Provide an integer for the days parameter.\")\n",
    "        # assign group based on 50/50 probability\n",
    "        row['group'] = group_bern.rvs()\n",
    "\n",
    "        if row['group'] == 0:\n",
    "            # assign conversion based on provided parameters\n",
    "            row['converted'] = A_bern.rvs()\n",
    "        else:\n",
    "            row['converted'] = B_bern.rvs()\n",
    "        # collect row into data container\n",
    "        data.append(row)\n",
    "\n",
    "    # convert data into pandas dataframe\n",
    "    df = pd.DataFrame(data)\n",
    "\n",
    "    # transform group labels of 0s and 1s to user-defined group labels\n",
    "    df['group'] = df['group'].apply(\n",
    "        lambda x: control_label if x == 0 else test_label)\n",
    "\n",
    "    return df"
   ]
  },
  {
   "cell_type": "code",
   "execution_count": 26,
   "metadata": {},
   "outputs": [],
   "source": [
    "df = generate_data(N_A,N_B,base_cr,base_cr+d_hat)\n",
    "ab_summary = df.pivot_table(values='converted', index='group', aggfunc=np.sum)\n",
    "# add additional columns to the pivot table\n",
    "ab_summary['total'] = df.pivot_table(values='converted', index='group', aggfunc=lambda x: len(x))\n",
    "ab_summary['rate'] = df.pivot_table(values='converted', index='group')"
   ]
  },
  {
   "cell_type": "code",
   "execution_count": 127,
   "metadata": {},
   "outputs": [
    {
     "ename": "NameError",
     "evalue": "name 'ab_summary' is not defined",
     "output_type": "error",
     "traceback": [
      "\u001b[0;31m---------------------------------------------------------------------------\u001b[0m",
      "\u001b[0;31mNameError\u001b[0m                                 Traceback (most recent call last)",
      "\u001b[0;32m<ipython-input-127-6fe40ec32c34>\u001b[0m in \u001b[0;36m<module>\u001b[0;34m\u001b[0m\n\u001b[0;32m----> 1\u001b[0;31m \u001b[0mab_summary\u001b[0m\u001b[0;34m\u001b[0m\u001b[0;34m\u001b[0m\u001b[0m\n\u001b[0m",
      "\u001b[0;31mNameError\u001b[0m: name 'ab_summary' is not defined"
     ]
    }
   ],
   "source": [
    "ab_summary"
   ]
  },
  {
   "cell_type": "markdown",
   "metadata": {},
   "source": [
    "ab_summary['converted']['A']"
   ]
  },
  {
   "cell_type": "markdown",
   "metadata": {},
   "source": [
    "# Bayesian A/B Testing #"
   ]
  },
  {
   "cell_type": "markdown",
   "metadata": {},
   "source": [
    "4 Common Ways to tackle the Bayesian problem:\n",
    "* Simulation of Posterior Draws\n",
    "* Numerical Integration\n",
    "* Closed-form Solution\n",
    "* Closed-form Approximation\n",
    "\n",
    "2 Common Decision Rules:\n",
    "* ROPE Method\n",
    "* Expected Loss Method\n",
    "\n",
    "ROPE Method: I want to see a difference of at least j% in my conversion rates before I am willing to choose variant A or B. \n",
    "\n",
    "Expected Loss Method: I am willing to choose variant A or B if the loss I am undertaking for this risk is not higher than k. The expected loss must be calculated for both A and B. "
   ]
  },
  {
   "cell_type": "markdown",
   "metadata": {},
   "source": [
    "## Simulation of Posterior Draws ##"
   ]
  },
  {
   "cell_type": "code",
   "execution_count": 1,
   "metadata": {},
   "outputs": [],
   "source": [
    "import numpy as np\n",
    "import seaborn as sns\n",
    "import matplotlib.pyplot as plt\n",
    "#This is the known data: impressions and conversions for the Control and Test set\n",
    "imps_ctrl,convs_ctrl=8500, 1410 \n",
    "imps_test,convs_test=8500, 1500"
   ]
  },
  {
   "cell_type": "markdown",
   "metadata": {},
   "source": [
    "$posterior = f_{\\alpha+K,\\beta+N-K}$\n",
    "where $\\alpha,\\beta$ are the parameters for the prior\n",
    "and N is the number of trials, k is the number of successs"
   ]
  },
  {
   "cell_type": "code",
   "execution_count": 2,
   "metadata": {},
   "outputs": [],
   "source": [
    "# Calculating the parameters for posterior (prior is assumed to be 1,1 - the uninformed guess)\n",
    "a_C, b_C = 1 + convs_ctrl, 1 + imps_ctrl - convs_ctrl\n",
    "a_T, b_T = 1 + convs_test, 1 + imps_test - convs_test"
   ]
  },
  {
   "cell_type": "code",
   "execution_count": 3,
   "metadata": {},
   "outputs": [],
   "source": [
    "# Draw 10000 samples from the distribution\n",
    "ctrl_simulation = np.random.beta(a_C,b_C,10000)\n",
    "test_simulation = np.random.beta(a_T,b_T,10000)"
   ]
  },
  {
   "cell_type": "code",
   "execution_count": 4,
   "metadata": {},
   "outputs": [
    {
     "data": {
      "text/plain": [
       "0.965"
      ]
     },
     "execution_count": 4,
     "metadata": {},
     "output_type": "execute_result"
    }
   ],
   "source": [
    "# Probability that test simulation outperforms the control simulation (aka Probability to be Best)\n",
    "np.mean(test_simulation > ctrl_simulation)"
   ]
  },
  {
   "cell_type": "markdown",
   "metadata": {},
   "source": [
    "Expected Loss formula from: https://github.com/cbellei/abyes"
   ]
  },
  {
   "cell_type": "code",
   "execution_count": 14,
   "metadata": {},
   "outputs": [
    {
     "data": {
      "text/plain": [
       "<matplotlib.axes._subplots.AxesSubplot at 0x116705e80>"
      ]
     },
     "execution_count": 14,
     "metadata": {},
     "output_type": "execute_result"
    },
    {
     "data": {
      "image/png": "[encoded data removed]",
      "text/plain": [
       "<Figure size 576x576 with 1 Axes>"
      ]
     },
     "metadata": {
      "needs_background": "light"
     },
     "output_type": "display_data"
    }
   ],
   "source": [
    "pts = test_simulation - ctrl_simulation\n",
    "plt.figure(figsize=(8, 8))\n",
    "sns.distplot(pts)"
   ]
  },
  {
   "cell_type": "code",
   "execution_count": 15,
   "metadata": {},
   "outputs": [],
   "source": [
    "# bins = np.linspace(np.min(pts) - 0.2 * abs(np.min(pts)), np.max(pts) + 0.2 * abs(np.max(pts)), 1000)\n",
    "posterior = np.histogram(pts, bins=1000, density=True)\n",
    "bins = posterior[1]\n",
    "dl = 0.5 * (bins[0:-1] + bins[1:]) # Calculate bin centers\n",
    "fdl = posterior[0]\n",
    "k = np.linspace(0, max(fdl), 1000)\n",
    "area_above = np.array([np.trapz(fdl[fdl >= kk], dl[fdl >= kk]) for kk in k])\n",
    "index = np.argwhere(np.abs(area_above - 0.95) == np.min(np.abs(area_above - 0.95)))[0] #0.95 is significance level"
   ]
  },
  {
   "cell_type": "code",
   "execution_count": 5,
   "metadata": {},
   "outputs": [
    {
     "ename": "NameError",
     "evalue": "name 'dl' is not defined",
     "output_type": "error",
     "traceback": [
      "\u001b[0;31m---------------------------------------------------------------------------\u001b[0m",
      "\u001b[0;31mNameError\u001b[0m                                 Traceback (most recent call last)",
      "\u001b[0;32m<ipython-input-5-ebcc27bd39ac>\u001b[0m in \u001b[0;36m<module>\u001b[0;34m\u001b[0m\n\u001b[0;32m----> 1\u001b[0;31m \u001b[0minta\u001b[0m \u001b[0;34m=\u001b[0m \u001b[0mnp\u001b[0m\u001b[0;34m.\u001b[0m\u001b[0mmaximum\u001b[0m\u001b[0;34m(\u001b[0m\u001b[0mdl\u001b[0m\u001b[0;34m,\u001b[0m \u001b[0;36m0\u001b[0m\u001b[0;34m)\u001b[0m \u001b[0;34m*\u001b[0m \u001b[0mfdl\u001b[0m\u001b[0;34m\u001b[0m\u001b[0;34m\u001b[0m\u001b[0m\n\u001b[0m\u001b[1;32m      2\u001b[0m \u001b[0mintb\u001b[0m \u001b[0;34m=\u001b[0m \u001b[0mnp\u001b[0m\u001b[0;34m.\u001b[0m\u001b[0mmaximum\u001b[0m\u001b[0;34m(\u001b[0m\u001b[0;34m-\u001b[0m\u001b[0mdl\u001b[0m\u001b[0;34m,\u001b[0m \u001b[0;36m0\u001b[0m\u001b[0;34m)\u001b[0m \u001b[0;34m*\u001b[0m \u001b[0mfdl\u001b[0m\u001b[0;34m\u001b[0m\u001b[0;34m\u001b[0m\u001b[0m\n\u001b[1;32m      3\u001b[0m \u001b[0;34m\u001b[0m\u001b[0m\n\u001b[1;32m      4\u001b[0m \u001b[0mela\u001b[0m \u001b[0;34m=\u001b[0m \u001b[0mnp\u001b[0m\u001b[0;34m.\u001b[0m\u001b[0mtrapz\u001b[0m\u001b[0;34m(\u001b[0m\u001b[0minta\u001b[0m\u001b[0;34m,\u001b[0m \u001b[0mdl\u001b[0m\u001b[0;34m)\u001b[0m\u001b[0;34m\u001b[0m\u001b[0;34m\u001b[0m\u001b[0m\n\u001b[1;32m      5\u001b[0m \u001b[0melb\u001b[0m \u001b[0;34m=\u001b[0m \u001b[0mnp\u001b[0m\u001b[0;34m.\u001b[0m\u001b[0mtrapz\u001b[0m\u001b[0;34m(\u001b[0m\u001b[0mintb\u001b[0m\u001b[0;34m,\u001b[0m \u001b[0mdl\u001b[0m\u001b[0;34m)\u001b[0m\u001b[0;34m\u001b[0m\u001b[0;34m\u001b[0m\u001b[0m\n",
      "\u001b[0;31mNameError\u001b[0m: name 'dl' is not defined"
     ]
    }
   ],
   "source": [
    "inta = np.maximum(dl, 0) * fdl\n",
    "intb = np.maximum(-dl, 0) * fdl\n",
    "\n",
    "ela = np.trapz(inta, dl)\n",
    "elb = np.trapz(intb, dl)\n",
    "print(ela/0.16588235294117648 * 100)\n",
    "print(elb/0.16588235294117648 * 100)"
   ]
  },
  {
   "cell_type": "markdown",
   "metadata": {},
   "source": [
    "Expected Loss formula: https://github.com/FrankPortman/bayesAB"
   ]
  },
  {
   "cell_type": "code",
   "execution_count": 18,
   "metadata": {},
   "outputs": [
    {
     "name": "stdout",
     "output_type": "stream",
     "text": [
      "0.0405885263724118\n",
      "6.469434158341396\n"
     ]
    }
   ],
   "source": [
    "# Expected Loss for choosing variant A\n",
    "test = (-(test_simulation - ctrl_simulation)/ctrl_simulation)[test_simulation < ctrl_simulation]\n",
    "print(np.mean(test) * np.mean(test_simulation < ctrl_simulation) * 100)\n",
    "    \n",
    "# Expected Loss for choosing variant B\n",
    "test = ((test_simulation - ctrl_simulation)/ctrl_simulation)[test_simulation > ctrl_simulation] \n",
    "print(np.mean(test) * np.mean(test_simulation > ctrl_simulation) * 100)"
   ]
  },
  {
   "cell_type": "code",
   "execution_count": 19,
   "metadata": {},
   "outputs": [
    {
     "data": {
      "text/plain": [
       "<matplotlib.axes._subplots.AxesSubplot at 0x118831588>"
      ]
     },
     "execution_count": 19,
     "metadata": {},
     "output_type": "execute_result"
    },
    {
     "data": {
      "image/png": "[encoded data removed]",
      "text/plain": [
       "<Figure size 432x288 with 1 Axes>"
      ]
     },
     "metadata": {
      "needs_background": "light"
     },
     "output_type": "display_data"
    }
   ],
   "source": [
    "import seaborn as sns\n",
    "sns.kdeplot(ctrl_simulation,color='blue')\n",
    "sns.kdeplot(test_simulation,color='orange')"
   ]
  },
  {
   "cell_type": "markdown",
   "metadata": {},
   "source": [
    "## Numerical Integration ##"
   ]
  },
  {
   "cell_type": "code",
   "execution_count": 20,
   "metadata": {},
   "outputs": [
    {
     "data": {
      "text/plain": [
       "[Text(0, 0.5, 'Test'), Text(0.5, 0, 'Control')]"
      ]
     },
     "execution_count": 20,
     "metadata": {},
     "output_type": "execute_result"
    },
    {
     "data": {
      "image/png": "[encoded data removed]",
      "text/plain": [
       "<Figure size 864x432 with 1 Axes>"
      ]
     },
     "metadata": {
      "needs_background": "light"
     },
     "output_type": "display_data"
    }
   ],
   "source": [
    "fig, ax = plt.subplots(figsize=(12, 6))\n",
    "ax_min, ax_max = min(np.minimum(ctrl_simulation, test_simulation)), max(np.maximum(ctrl_simulation, test_simulation))\n",
    "ax.set_xlim(ax_min, ax_max)\n",
    "ax.set_ylim(ax_min, ax_max)\n",
    "facet = sns.kdeplot(ctrl_simulation, test_simulation, cmap=\"Reds\", shade=True, shade_lowest=False)\n",
    "ax.plot(ax.get_xlim(), ax.get_ylim(), ls=\"--\", color=\"black\")\n",
    "ax.set(xlabel='Control', ylabel='Test')"
   ]
  },
  {
   "cell_type": "code",
   "execution_count": 11,
   "metadata": {},
   "outputs": [
    {
     "ename": "SyntaxError",
     "evalue": "unexpected EOF while parsing (<ipython-input-11-b63fe53c7366>, line 2)",
     "output_type": "error",
     "traceback": [
      "\u001b[0;36m  File \u001b[0;32m\"<ipython-input-11-b63fe53c7366>\"\u001b[0;36m, line \u001b[0;32m2\u001b[0m\n\u001b[0;31m    \u001b[0m\n\u001b[0m    ^\u001b[0m\n\u001b[0;31mSyntaxError\u001b[0m\u001b[0;31m:\u001b[0m unexpected EOF while parsing\n"
     ]
    }
   ],
   "source": [
    "def num_integration(ctrl, test, a_C, a_T, b_C, b_T):\n",
    "    "
   ]
  },
  {
   "cell_type": "markdown",
   "metadata": {},
   "source": [
    "## Closed-form Solution ## "
   ]
  },
  {
   "cell_type": "markdown",
   "metadata": {},
   "source": [
    "Use the identity $log(B(a,b))=log(Γ(a))+log(Γ(b))−log(Γ(a+b))$ as python does not have log beta."
   ]
  },
  {
   "cell_type": "code",
   "execution_count": 6,
   "metadata": {},
   "outputs": [
    {
     "name": "stdout",
     "output_type": "stream",
     "text": [
      "P(A>B): 0.033445756683454286\n",
      "P(B>A): 0.9665542433165457\n"
     ]
    }
   ],
   "source": [
    "import math\n",
    "def lbeta(a, b):\n",
    "    total = math.lgamma(a) + math.lgamma(b) - math.lgamma(a+b)\n",
    "    return total\n",
    "    \n",
    "def calc_ab(alpha_a, beta_a, alpha_b, beta_b):\n",
    "    total = 0.0\n",
    "    \n",
    "    for i in range(alpha_b):\n",
    "        num = lbeta(alpha_a + i, beta_a + beta_b)\n",
    "        den = math.log(beta_b + i) + lbeta(1 + i, beta_b) + lbeta(alpha_a, beta_a)\n",
    "        total += math.exp(num-den)\n",
    "    return 1 - total # Returns P(X > Y)\n",
    "\n",
    "print(\"P(A>B):\",calc_ab(a_C,b_C,a_T,b_T)) # Probability of A being the best\n",
    "print(\"P(B>A):\",1 - calc_ab(a_C,b_C,a_T,b_T)) # Probability of B being the best"
   ]
  },
  {
   "cell_type": "code",
   "execution_count": 22,
   "metadata": {},
   "outputs": [
    {
     "name": "stdout",
     "output_type": "stream",
     "text": [
      "0.03475769360421172\n",
      "0.9681953903555034\n"
     ]
    }
   ],
   "source": [
    "def loss(a, b, c, d):\n",
    "    total = 0.0\n",
    "    total = (lbeta(a+1,b)/lbeta(a,b) * calc_ab(a+1,b,c,d))\n",
    "    - (lbeta(c+1,d)/lbeta(c,d) * calc_ab(a,b,c+1,d))\n",
    "    return total\n",
    "print(loss(a_C,b_C,a_T,b_T))\n",
    "print(loss(a_T,b_T,a_C,b_C))"
   ]
  },
  {
   "cell_type": "code",
   "execution_count": 23,
   "metadata": {},
   "outputs": [],
   "source": [
    "# Another implementation (more optimized?)\n",
    "from math import lgamma\n",
    "from numba import jit\n",
    "\n",
    "# Formulas used to calculate P(A>B). No Monte Carlo simulation is required as A/B testing involves conjugate pairs, \n",
    "# allowing us to compute the exact solution.\n",
    "@jit\n",
    "def h(a, b, c, d):\n",
    "    num = lgamma(a + c) + lgamma(b + d) + lgamma(a + b) + lgamma(c + d)\n",
    "    den = lgamma(a) + lgamma(b) + lgamma(c) + lgamma(d) + lgamma(a + b + c + d)\n",
    "    return np.exp(num - den)\n",
    "\n",
    "@jit\n",
    "def g0(a, b, c):    \n",
    "    return np.exp(lgamma(a + b) + lgamma(a + c) - (lgamma(a + b + c) + lgamma(a)))\n",
    "\n",
    "@jit\n",
    "def hiter(a, b, c, d):\n",
    "    while d > 1:\n",
    "        d -= 1\n",
    "        yield h(a, b, c, d) / d\n",
    "\n",
    "def g(a, b, c, d):\n",
    "    return g0(a, b, c) + sum(hiter(a, b, c, d))\n",
    "\n",
    "def calc_prob_between(beta1, beta2):\n",
    "    return g(beta1.args[0], beta1.args[1], beta2.args[0], beta2.args[1])"
   ]
  },
  {
   "cell_type": "code",
   "execution_count": 24,
   "metadata": {},
   "outputs": [
    {
     "name": "stdout",
     "output_type": "stream",
     "text": [
      "Test option lift Conversion Rates by 6.38% with 96.7% probability.\n"
     ]
    }
   ],
   "source": [
    "from scipy.stats import beta\n",
    "import numpy as np\n",
    "\n",
    "#here we create the Beta functions for the two sets (add 1 from our uninformed priors)\n",
    "a_C, b_C = convs_ctrl+1, imps_ctrl-convs_ctrl+1\n",
    "beta_C = beta(a_C, b_C)\n",
    "a_T, b_T = convs_test+1, imps_test-convs_test+1\n",
    "beta_T = beta(a_T, b_T)\n",
    "\n",
    "#calculating the lift\n",
    "lift=(beta_T.mean()-beta_C.mean())/beta_C.mean()\n",
    "\n",
    "#calculating the probability for Test to be better than Control\n",
    "prob=calc_prob_between(beta_T, beta_C)\n",
    "\n",
    "print (f\"Test option lift Conversion Rates by {lift*100:2.2f}% with {prob*100:2.1f}% probability.\")\n",
    "#output: Test option lift Conversion Rates by 59.68% with 98.2% probability."
   ]
  },
  {
   "cell_type": "code",
   "execution_count": 22,
   "metadata": {},
   "outputs": [
    {
     "data": {
      "image/png": "[encoded data removed]",
      "text/plain": [
       "<Figure size 432x288 with 1 Axes>"
      ]
     },
     "metadata": {
      "needs_background": "light"
     },
     "output_type": "display_data"
    }
   ],
   "source": [
    "import matplotlib.pyplot as plt\n",
    "\n",
    "def calc_beta_mode(a, b):\n",
    "    '''this function calculate the mode (peak) of the Beta distribution'''\n",
    "    return (a-1)/(a+b-2)\n",
    "\n",
    "def plot(betas, names, linf=0, lsup=0.01):\n",
    "    '''this function plots the Beta distribution'''\n",
    "    x=np.linspace(linf,lsup, 100)\n",
    "    for f, name in zip(betas,names) :\n",
    "        y=f.pdf(x) #this for calculate the value for the PDF at the specified x-points\n",
    "        y_mode=calc_beta_mode(f.args[0], f.args[1])\n",
    "        y_var=f.var() # the variance of the Beta distribution\n",
    "        plt.plot(x,y, label=f\"{name} sample, conversion rate: {y_mode:0.1E} $\\pm$ {y_var:0.1E}\")\n",
    "        plt.yticks([])\n",
    "    plt.legend()\n",
    "\n",
    "plot([beta_C, beta_T], names=[\"Control\", \"Test\"])"
   ]
  },
  {
   "cell_type": "markdown",
   "metadata": {},
   "source": [
    "## Closed-form Approximation ##"
   ]
  },
  {
   "cell_type": "code",
   "execution_count": 25,
   "metadata": {},
   "outputs": [
    {
     "data": {
      "text/plain": [
       "<matplotlib.axes._subplots.AxesSubplot at 0x118bbf470>"
      ]
     },
     "execution_count": 25,
     "metadata": {},
     "output_type": "execute_result"
    },
    {
     "data": {
      "image/png": "[encoded data removed]",
      "text/plain": [
       "<Figure size 432x288 with 1 Axes>"
      ]
     },
     "metadata": {
      "needs_background": "light"
     },
     "output_type": "display_data"
    }
   ],
   "source": [
    "from scipy.stats import norm\n",
    "# We can approximate a beta distribution using a normal distribution for decently large values of alpha and beta\n",
    "u1 = a_C/(a_C + b_C)\n",
    "var1 = (a_C * b_C)/(pow((a_C + b_C),2) * (a_C + b_C + 1))\n",
    "sns.kdeplot(ctrl_simulation,color='blue')"
   ]
  },
  {
   "cell_type": "code",
   "execution_count": 26,
   "metadata": {},
   "outputs": [
    {
     "name": "stdout",
     "output_type": "stream",
     "text": [
      "P(A>B): 0.03345089364774475\n",
      "P(B>A): 0.9665491063522552\n"
     ]
    }
   ],
   "source": [
    "import scipy\n",
    "def h_approximation(a_C,b_C,a_T,b_T): # Normal approximation for beta distribution\n",
    "    u_C = a_C/(a_C + b_C) \n",
    "    u_T = a_T/(a_T + b_T)\n",
    "    var_C = (a_C * b_C)/(pow((a_C + b_C),2) * (a_C + b_C + 1))\n",
    "    var_T = (a_T * b_T)/(pow((a_T + b_T),2) * (a_T + b_T + 1))\n",
    "    return scipy.stats.norm.cdf(0,u_T - u_C,math.sqrt(var_C + var_T))\n",
    "\n",
    "print(\"P(A>B):\",h_approximation(a_C,b_C,a_T,b_T)) # Probability of A being the best\n",
    "print(\"P(B>A):\",1 - h_approximation(a_C,b_C,a_T,b_T)) # Probability of B being the best"
   ]
  },
  {
   "cell_type": "code",
   "execution_count": 27,
   "metadata": {},
   "outputs": [
    {
     "name": "stdout",
     "output_type": "stream",
     "text": [
      "Posterior P(A>B): 0.03345\n",
      "Posterior P(B>A): 0.96655\n",
      "Estimated Lift: 0.01059\n",
      "95% Confidence Interval: [-0.00074, 0.02191]\n",
      "Results are inconclusive. Consider collecting more data.\n"
     ]
    },
    {
     "data": {
      "image/png": "[encoded data removed]",
      "text/plain": [
       "<Figure size 576x504 with 1 Axes>"
      ]
     },
     "metadata": {
      "needs_background": "light"
     },
     "output_type": "display_data"
    }
   ],
   "source": [
    "# Confidence Intervals (these are easy because we are using normal distributions)\n",
    "def h_approximation_conf(a_C,b_C,a_T,b_T):\n",
    "    u_C = a_C/(a_C + b_C) \n",
    "    u_T = a_T/(a_T + b_T)\n",
    "    var_C = (a_C * b_C)/(pow((a_C + b_C),2) * (a_C + b_C + 1))\n",
    "    var_T = (a_T * b_T)/(pow((a_T + b_T),2) * (a_T + b_T + 1))\n",
    "    \n",
    "    mu_diff = u_T - u_C\n",
    "    sd_diff = math.sqrt(var_C + var_T)\n",
    "    \n",
    "    rope = 0.001\n",
    "    posterior = scipy.stats.norm.cdf(0, mu_diff, sd_diff) # (-inf, 0] Gives evidence that the control is better than test\n",
    "    low_conf = scipy.stats.norm.ppf(0.025, mu_diff, sd_diff)\n",
    "    high_conf = scipy.stats.norm.ppf(0.975, mu_diff, sd_diff)\n",
    "    \n",
    "    print(\"Posterior P(A>B): {:.5f}\".format(posterior))\n",
    "    print(\"Posterior P(B>A): {:.5f}\".format(1 - posterior))\n",
    "    print(\"Estimated Lift: {:.5f}\".format(mu_diff))\n",
    "    print(\"95% Confidence Interval: [{:.5f}, {:.5f}]\".format(low_conf, high_conf))\n",
    "\n",
    "    x = np.linspace(-3.5 * sd_diff + mu_diff, 3.5 * sd_diff + mu_diff, 100)\n",
    "    fig, ax = plt.subplots(figsize=(8, 7))\n",
    "    plt.plot(x, scipy.stats.norm.pdf(x, mu_diff, sd_diff))\n",
    "    plt.plot(np.linspace(low_conf,high_conf),np.full(50,0.1)) # Plot 95% HPD\n",
    "    plt.axvline(0, color = 'green') # \n",
    "    plt.axvline(-rope, linestyle = \"--\", color = 'black') # \n",
    "    plt.axvline(rope, linestyle = \"--\", color = 'black') # \n",
    "    \n",
    "    plt.xlabel(\"$\\mu_B - \\mu_A$\")\n",
    "    plt.gca().set_ylim(bottom=0)\n",
    "    plt.title(\"Lift\", fontsize=18)\n",
    "    \n",
    "    if (high_conf < -rope):\n",
    "        print(\"Variant A is the winner.\")\n",
    "    elif (low_conf > rope):\n",
    "        print(\"Variant B is the winner.\")\n",
    "    elif (low_conf > -rope) & (high_conf < rope):\n",
    "        print(\"Variant A and B are equivalent.\")\n",
    "    else: \n",
    "        print(\"Results are inconclusive. Consider collecting more data.\")\n",
    "\n",
    "h_approximation_conf(a_C,b_C,a_T,b_T)\n",
    "# Under ROPE (Region of Practical Equivalence)"
   ]
  },
  {
   "cell_type": "markdown",
   "metadata": {},
   "source": [
    "3 Different Scenarios:\n",
    "* If the 95% HPD lies both inside and outside of the ROPE, the results are inconclusive.\n",
    "* If the 95% HPD lies completely to the right of the ROPE, variant B is the winner. Similarly, if the 95% HPD lies completely to the left of the ROPE, variant A is the winner.\n",
    "* If the 95% HPD lies completely inside of the ROPE, the null value is accepted i.e variant A and B are equivalent"
   ]
  },
  {
   "cell_type": "code",
   "execution_count": 26,
   "metadata": {},
   "outputs": [],
   "source": [
    "# Expected Loss\n"
   ]
  },
  {
   "cell_type": "markdown",
   "metadata": {},
   "source": [
    "## Comparing with Frequentist ##"
   ]
  },
  {
   "cell_type": "code",
   "execution_count": 27,
   "metadata": {},
   "outputs": [
    {
     "name": "stdout",
     "output_type": "stream",
     "text": [
      "Conversion rate for control: 0.00182\n",
      "Conversion rate for test: 0.00294\n"
     ]
    }
   ],
   "source": [
    "# Frequentist way of calculating conversion rate \n",
    "cr_control, cr_test = 30/16500, 50/17000\n",
    "print(f\"Conversion rate for control: {cr_control:.5f}\")\n",
    "print(f\"Conversion rate for test: {cr_test:.5f}\")\n",
    "# Note that it's similar with the peak (mode) of the beta distributions above"
   ]
  },
  {
   "cell_type": "code",
   "execution_count": 76,
   "metadata": {},
   "outputs": [
    {
     "data": {
      "text/plain": [
       "mpf('0.48112566853812544')"
      ]
     },
     "execution_count": 76,
     "metadata": {},
     "output_type": "execute_result"
    },
    {
     "data": {
      "image/png": "[encoded data removed]",
      "text/plain": [
       "<Figure size 432x288 with 1 Axes>"
      ]
     },
     "metadata": {
      "needs_background": "light"
     },
     "output_type": "display_data"
    }
   ],
   "source": [
    "x=np.linspace(0,0.01,100)\n",
    "y=beta_T.pdf(x) #this for calculate the value for the PDF at the specified x-points\n",
    "y_mode=calc_beta_mode(beta_T.args[0], beta_T.args[1])\n",
    "y_var=beta_T.var() # the variance of the Beta distribution\n",
    "plt.plot(x,y)\n",
    "plt.fill_between(x,y,where = x > 0.003, color=\"#ededed\")\n",
    "\n",
    "from mpmath import betainc\n",
    "betainc(a_T, b_T, 0.003,1, regularized=True)\n",
    "# Probability of the conversion rate being greater than 0.003"
   ]
  },
  {
   "cell_type": "code",
   "execution_count": 82,
   "metadata": {},
   "outputs": [
    {
     "data": {
      "text/plain": [
       "array([0.00169606, 0.00199785, 0.00215041, ..., 0.00154198, 0.00205249,\n",
       "       0.00214055])"
      ]
     },
     "execution_count": 82,
     "metadata": {},
     "output_type": "execute_result"
    }
   ],
   "source": [
    "val_C"
   ]
  },
  {
   "cell_type": "code",
   "execution_count": 78,
   "metadata": {},
   "outputs": [
    {
     "ename": "KeyboardInterrupt",
     "evalue": "",
     "output_type": "error",
     "traceback": [
      "\u001b[0;31m---------------------------------------------------------------------------\u001b[0m",
      "\u001b[0;31mKeyboardInterrupt\u001b[0m                         Traceback (most recent call last)",
      "\u001b[0;32m<ipython-input-78-01186cd7d08f>\u001b[0m in \u001b[0;36m<module>\u001b[0;34m\u001b[0m\n\u001b[1;32m     18\u001b[0m \u001b[0mdf\u001b[0m\u001b[0;34m=\u001b[0m\u001b[0mdf\u001b[0m\u001b[0;34m[\u001b[0m\u001b[0mdf\u001b[0m\u001b[0;34m[\u001b[0m\u001b[0;34m'Control'\u001b[0m\u001b[0;34m]\u001b[0m\u001b[0;34m<\u001b[0m\u001b[0mlimit\u001b[0m\u001b[0;34m]\u001b[0m\u001b[0;34m\u001b[0m\u001b[0;34m\u001b[0m\u001b[0m\n\u001b[1;32m     19\u001b[0m \u001b[0mdf\u001b[0m\u001b[0;34m=\u001b[0m\u001b[0mdf\u001b[0m\u001b[0;34m[\u001b[0m\u001b[0mdf\u001b[0m\u001b[0;34m[\u001b[0m\u001b[0;34m'Test'\u001b[0m\u001b[0;34m]\u001b[0m\u001b[0;34m<\u001b[0m\u001b[0mlimit\u001b[0m\u001b[0;34m]\u001b[0m\u001b[0;34m\u001b[0m\u001b[0;34m\u001b[0m\u001b[0m\n\u001b[0;32m---> 20\u001b[0;31m \u001b[0mg\u001b[0m\u001b[0;34m=\u001b[0m\u001b[0msns\u001b[0m\u001b[0;34m.\u001b[0m\u001b[0mjointplot\u001b[0m\u001b[0;34m(\u001b[0m\u001b[0mx\u001b[0m\u001b[0;34m=\u001b[0m\u001b[0mdf\u001b[0m\u001b[0;34m.\u001b[0m\u001b[0mControl\u001b[0m\u001b[0;34m,\u001b[0m \u001b[0my\u001b[0m\u001b[0;34m=\u001b[0m\u001b[0mdf\u001b[0m\u001b[0;34m.\u001b[0m\u001b[0mTest\u001b[0m\u001b[0;34m,\u001b[0m \u001b[0mkind\u001b[0m\u001b[0;34m=\u001b[0m\u001b[0;34m'kde'\u001b[0m\u001b[0;34m,\u001b[0m \u001b[0mn_levels\u001b[0m\u001b[0;34m=\u001b[0m\u001b[0;36m15\u001b[0m\u001b[0;34m)\u001b[0m\u001b[0;34m\u001b[0m\u001b[0;34m\u001b[0m\u001b[0m\n\u001b[0m\u001b[1;32m     21\u001b[0m \u001b[0mg\u001b[0m\u001b[0;34m.\u001b[0m\u001b[0max_joint\u001b[0m\u001b[0;34m.\u001b[0m\u001b[0mplot\u001b[0m\u001b[0;34m(\u001b[0m\u001b[0;34m[\u001b[0m\u001b[0;36m0.0015\u001b[0m\u001b[0;34m,\u001b[0m \u001b[0mlimit\u001b[0m\u001b[0;34m]\u001b[0m\u001b[0;34m,\u001b[0m \u001b[0;34m[\u001b[0m\u001b[0;36m0.0015\u001b[0m\u001b[0;34m,\u001b[0m \u001b[0mlimit\u001b[0m\u001b[0;34m]\u001b[0m\u001b[0;34m)\u001b[0m\u001b[0;34m\u001b[0m\u001b[0;34m\u001b[0m\u001b[0m\n",
      "\u001b[0;32m~/anaconda3/envs/venv/lib/python3.6/site-packages/seaborn/axisgrid.py\u001b[0m in \u001b[0;36mjointplot\u001b[0;34m(x, y, data, kind, stat_func, color, height, ratio, space, dropna, xlim, ylim, joint_kws, marginal_kws, annot_kws, **kwargs)\u001b[0m\n\u001b[1;32m   2312\u001b[0m         \u001b[0mjoint_kws\u001b[0m\u001b[0;34m.\u001b[0m\u001b[0msetdefault\u001b[0m\u001b[0;34m(\u001b[0m\u001b[0;34m\"shade\"\u001b[0m\u001b[0;34m,\u001b[0m \u001b[0;32mTrue\u001b[0m\u001b[0;34m)\u001b[0m\u001b[0;34m\u001b[0m\u001b[0;34m\u001b[0m\u001b[0m\n\u001b[1;32m   2313\u001b[0m         \u001b[0mjoint_kws\u001b[0m\u001b[0;34m.\u001b[0m\u001b[0msetdefault\u001b[0m\u001b[0;34m(\u001b[0m\u001b[0;34m\"cmap\"\u001b[0m\u001b[0;34m,\u001b[0m \u001b[0mcmap\u001b[0m\u001b[0;34m)\u001b[0m\u001b[0;34m\u001b[0m\u001b[0;34m\u001b[0m\u001b[0m\n\u001b[0;32m-> 2314\u001b[0;31m         \u001b[0mgrid\u001b[0m\u001b[0;34m.\u001b[0m\u001b[0mplot_joint\u001b[0m\u001b[0;34m(\u001b[0m\u001b[0mkdeplot\u001b[0m\u001b[0;34m,\u001b[0m \u001b[0;34m**\u001b[0m\u001b[0mjoint_kws\u001b[0m\u001b[0;34m)\u001b[0m\u001b[0;34m\u001b[0m\u001b[0;34m\u001b[0m\u001b[0m\n\u001b[0m\u001b[1;32m   2315\u001b[0m \u001b[0;34m\u001b[0m\u001b[0m\n\u001b[1;32m   2316\u001b[0m         \u001b[0mmarginal_kws\u001b[0m\u001b[0;34m.\u001b[0m\u001b[0msetdefault\u001b[0m\u001b[0;34m(\u001b[0m\u001b[0;34m\"shade\"\u001b[0m\u001b[0;34m,\u001b[0m \u001b[0;32mTrue\u001b[0m\u001b[0;34m)\u001b[0m\u001b[0;34m\u001b[0m\u001b[0;34m\u001b[0m\u001b[0m\n",
      "\u001b[0;32m~/anaconda3/envs/venv/lib/python3.6/site-packages/seaborn/axisgrid.py\u001b[0m in \u001b[0;36mplot_joint\u001b[0;34m(self, func, **kwargs)\u001b[0m\n\u001b[1;32m   1782\u001b[0m         \"\"\"\n\u001b[1;32m   1783\u001b[0m         \u001b[0mplt\u001b[0m\u001b[0;34m.\u001b[0m\u001b[0msca\u001b[0m\u001b[0;34m(\u001b[0m\u001b[0mself\u001b[0m\u001b[0;34m.\u001b[0m\u001b[0max_joint\u001b[0m\u001b[0;34m)\u001b[0m\u001b[0;34m\u001b[0m\u001b[0;34m\u001b[0m\u001b[0m\n\u001b[0;32m-> 1784\u001b[0;31m         \u001b[0mfunc\u001b[0m\u001b[0;34m(\u001b[0m\u001b[0mself\u001b[0m\u001b[0;34m.\u001b[0m\u001b[0mx\u001b[0m\u001b[0;34m,\u001b[0m \u001b[0mself\u001b[0m\u001b[0;34m.\u001b[0m\u001b[0my\u001b[0m\u001b[0;34m,\u001b[0m \u001b[0;34m**\u001b[0m\u001b[0mkwargs\u001b[0m\u001b[0;34m)\u001b[0m\u001b[0;34m\u001b[0m\u001b[0;34m\u001b[0m\u001b[0m\n\u001b[0m\u001b[1;32m   1785\u001b[0m \u001b[0;34m\u001b[0m\u001b[0m\n\u001b[1;32m   1786\u001b[0m         \u001b[0;32mreturn\u001b[0m \u001b[0mself\u001b[0m\u001b[0;34m\u001b[0m\u001b[0;34m\u001b[0m\u001b[0m\n",
      "\u001b[0;32m~/anaconda3/envs/venv/lib/python3.6/site-packages/seaborn/distributions.py\u001b[0m in \u001b[0;36mkdeplot\u001b[0;34m(data, data2, shade, vertical, kernel, bw, gridsize, cut, clip, legend, cumulative, shade_lowest, cbar, cbar_ax, cbar_kws, ax, **kwargs)\u001b[0m\n\u001b[1;32m    685\u001b[0m         ax = _bivariate_kdeplot(x, y, shade, shade_lowest,\n\u001b[1;32m    686\u001b[0m                                 \u001b[0mkernel\u001b[0m\u001b[0;34m,\u001b[0m \u001b[0mbw\u001b[0m\u001b[0;34m,\u001b[0m \u001b[0mgridsize\u001b[0m\u001b[0;34m,\u001b[0m \u001b[0mcut\u001b[0m\u001b[0;34m,\u001b[0m \u001b[0mclip\u001b[0m\u001b[0;34m,\u001b[0m \u001b[0mlegend\u001b[0m\u001b[0;34m,\u001b[0m\u001b[0;34m\u001b[0m\u001b[0;34m\u001b[0m\u001b[0m\n\u001b[0;32m--> 687\u001b[0;31m                                 cbar, cbar_ax, cbar_kws, ax, **kwargs)\n\u001b[0m\u001b[1;32m    688\u001b[0m     \u001b[0;32melse\u001b[0m\u001b[0;34m:\u001b[0m\u001b[0;34m\u001b[0m\u001b[0;34m\u001b[0m\u001b[0m\n\u001b[1;32m    689\u001b[0m         ax = _univariate_kdeplot(data, shade, vertical, kernel, bw,\n",
      "\u001b[0;32m~/anaconda3/envs/venv/lib/python3.6/site-packages/seaborn/distributions.py\u001b[0m in \u001b[0;36m_bivariate_kdeplot\u001b[0;34m(x, y, filled, fill_lowest, kernel, bw, gridsize, cut, clip, axlabel, cbar, cbar_ax, cbar_kws, ax, **kwargs)\u001b[0m\n\u001b[1;32m    391\u001b[0m     \u001b[0;31m# Calculate the KDE\u001b[0m\u001b[0;34m\u001b[0m\u001b[0;34m\u001b[0m\u001b[0;34m\u001b[0m\u001b[0m\n\u001b[1;32m    392\u001b[0m     \u001b[0;32mif\u001b[0m \u001b[0m_has_statsmodels\u001b[0m\u001b[0;34m:\u001b[0m\u001b[0;34m\u001b[0m\u001b[0;34m\u001b[0m\u001b[0m\n\u001b[0;32m--> 393\u001b[0;31m         \u001b[0mxx\u001b[0m\u001b[0;34m,\u001b[0m \u001b[0myy\u001b[0m\u001b[0;34m,\u001b[0m \u001b[0mz\u001b[0m \u001b[0;34m=\u001b[0m \u001b[0m_statsmodels_bivariate_kde\u001b[0m\u001b[0;34m(\u001b[0m\u001b[0mx\u001b[0m\u001b[0;34m,\u001b[0m \u001b[0my\u001b[0m\u001b[0;34m,\u001b[0m \u001b[0mbw\u001b[0m\u001b[0;34m,\u001b[0m \u001b[0mgridsize\u001b[0m\u001b[0;34m,\u001b[0m \u001b[0mcut\u001b[0m\u001b[0;34m,\u001b[0m \u001b[0mclip\u001b[0m\u001b[0;34m)\u001b[0m\u001b[0;34m\u001b[0m\u001b[0;34m\u001b[0m\u001b[0m\n\u001b[0m\u001b[1;32m    394\u001b[0m     \u001b[0;32melse\u001b[0m\u001b[0;34m:\u001b[0m\u001b[0;34m\u001b[0m\u001b[0;34m\u001b[0m\u001b[0m\n\u001b[1;32m    395\u001b[0m         \u001b[0mxx\u001b[0m\u001b[0;34m,\u001b[0m \u001b[0myy\u001b[0m\u001b[0;34m,\u001b[0m \u001b[0mz\u001b[0m \u001b[0;34m=\u001b[0m \u001b[0m_scipy_bivariate_kde\u001b[0m\u001b[0;34m(\u001b[0m\u001b[0mx\u001b[0m\u001b[0;34m,\u001b[0m \u001b[0my\u001b[0m\u001b[0;34m,\u001b[0m \u001b[0mbw\u001b[0m\u001b[0;34m,\u001b[0m \u001b[0mgridsize\u001b[0m\u001b[0;34m,\u001b[0m \u001b[0mcut\u001b[0m\u001b[0;34m,\u001b[0m \u001b[0mclip\u001b[0m\u001b[0;34m)\u001b[0m\u001b[0;34m\u001b[0m\u001b[0;34m\u001b[0m\u001b[0m\n",
      "\u001b[0;32m~/anaconda3/envs/venv/lib/python3.6/site-packages/seaborn/distributions.py\u001b[0m in \u001b[0;36m_statsmodels_bivariate_kde\u001b[0;34m(x, y, bw, gridsize, cut, clip)\u001b[0m\n\u001b[1;32m    465\u001b[0m     \u001b[0my_support\u001b[0m \u001b[0;34m=\u001b[0m \u001b[0m_kde_support\u001b[0m\u001b[0;34m(\u001b[0m\u001b[0my\u001b[0m\u001b[0;34m,\u001b[0m \u001b[0mkde\u001b[0m\u001b[0;34m.\u001b[0m\u001b[0mbw\u001b[0m\u001b[0;34m[\u001b[0m\u001b[0;36m1\u001b[0m\u001b[0;34m]\u001b[0m\u001b[0;34m,\u001b[0m \u001b[0mgridsize\u001b[0m\u001b[0;34m,\u001b[0m \u001b[0mcut\u001b[0m\u001b[0;34m,\u001b[0m \u001b[0mclip\u001b[0m\u001b[0;34m[\u001b[0m\u001b[0;36m1\u001b[0m\u001b[0;34m]\u001b[0m\u001b[0;34m)\u001b[0m\u001b[0;34m\u001b[0m\u001b[0;34m\u001b[0m\u001b[0m\n\u001b[1;32m    466\u001b[0m     \u001b[0mxx\u001b[0m\u001b[0;34m,\u001b[0m \u001b[0myy\u001b[0m \u001b[0;34m=\u001b[0m \u001b[0mnp\u001b[0m\u001b[0;34m.\u001b[0m\u001b[0mmeshgrid\u001b[0m\u001b[0;34m(\u001b[0m\u001b[0mx_support\u001b[0m\u001b[0;34m,\u001b[0m \u001b[0my_support\u001b[0m\u001b[0;34m)\u001b[0m\u001b[0;34m\u001b[0m\u001b[0;34m\u001b[0m\u001b[0m\n\u001b[0;32m--> 467\u001b[0;31m     \u001b[0mz\u001b[0m \u001b[0;34m=\u001b[0m \u001b[0mkde\u001b[0m\u001b[0;34m.\u001b[0m\u001b[0mpdf\u001b[0m\u001b[0;34m(\u001b[0m\u001b[0;34m[\u001b[0m\u001b[0mxx\u001b[0m\u001b[0;34m.\u001b[0m\u001b[0mravel\u001b[0m\u001b[0;34m(\u001b[0m\u001b[0;34m)\u001b[0m\u001b[0;34m,\u001b[0m \u001b[0myy\u001b[0m\u001b[0;34m.\u001b[0m\u001b[0mravel\u001b[0m\u001b[0;34m(\u001b[0m\u001b[0;34m)\u001b[0m\u001b[0;34m]\u001b[0m\u001b[0;34m)\u001b[0m\u001b[0;34m.\u001b[0m\u001b[0mreshape\u001b[0m\u001b[0;34m(\u001b[0m\u001b[0mxx\u001b[0m\u001b[0;34m.\u001b[0m\u001b[0mshape\u001b[0m\u001b[0;34m)\u001b[0m\u001b[0;34m\u001b[0m\u001b[0;34m\u001b[0m\u001b[0m\n\u001b[0m\u001b[1;32m    468\u001b[0m     \u001b[0;32mreturn\u001b[0m \u001b[0mxx\u001b[0m\u001b[0;34m,\u001b[0m \u001b[0myy\u001b[0m\u001b[0;34m,\u001b[0m \u001b[0mz\u001b[0m\u001b[0;34m\u001b[0m\u001b[0;34m\u001b[0m\u001b[0m\n\u001b[1;32m    469\u001b[0m \u001b[0;34m\u001b[0m\u001b[0m\n",
      "\u001b[0;32m~/anaconda3/envs/venv/lib/python3.6/site-packages/statsmodels/nonparametric/kernel_density.py\u001b[0m in \u001b[0;36mpdf\u001b[0;34m(self, data_predict)\u001b[0m\n\u001b[1;32m    194\u001b[0m             pdf_est.append(gpke(self.bw, data=self.data,\n\u001b[1;32m    195\u001b[0m                                 \u001b[0mdata_predict\u001b[0m\u001b[0;34m=\u001b[0m\u001b[0mdata_predict\u001b[0m\u001b[0;34m[\u001b[0m\u001b[0mi\u001b[0m\u001b[0;34m,\u001b[0m \u001b[0;34m:\u001b[0m\u001b[0;34m]\u001b[0m\u001b[0;34m,\u001b[0m\u001b[0;34m\u001b[0m\u001b[0;34m\u001b[0m\u001b[0m\n\u001b[0;32m--> 196\u001b[0;31m                                 var_type=self.var_type) / self.nobs)\n\u001b[0m\u001b[1;32m    197\u001b[0m \u001b[0;34m\u001b[0m\u001b[0m\n\u001b[1;32m    198\u001b[0m         \u001b[0mpdf_est\u001b[0m \u001b[0;34m=\u001b[0m \u001b[0mnp\u001b[0m\u001b[0;34m.\u001b[0m\u001b[0msqueeze\u001b[0m\u001b[0;34m(\u001b[0m\u001b[0mpdf_est\u001b[0m\u001b[0;34m)\u001b[0m\u001b[0;34m\u001b[0m\u001b[0;34m\u001b[0m\u001b[0m\n",
      "\u001b[0;32m~/anaconda3/envs/venv/lib/python3.6/site-packages/statsmodels/nonparametric/_kernel_base.py\u001b[0m in \u001b[0;36mgpke\u001b[0;34m(bw, data, data_predict, var_type, ckertype, okertype, ukertype, tosum)\u001b[0m\n\u001b[1;32m    508\u001b[0m     \u001b[0;32mfor\u001b[0m \u001b[0mii\u001b[0m\u001b[0;34m,\u001b[0m \u001b[0mvtype\u001b[0m \u001b[0;32min\u001b[0m \u001b[0menumerate\u001b[0m\u001b[0;34m(\u001b[0m\u001b[0mvar_type\u001b[0m\u001b[0;34m)\u001b[0m\u001b[0;34m:\u001b[0m\u001b[0;34m\u001b[0m\u001b[0;34m\u001b[0m\u001b[0m\n\u001b[1;32m    509\u001b[0m         \u001b[0mfunc\u001b[0m \u001b[0;34m=\u001b[0m \u001b[0mkernel_func\u001b[0m\u001b[0;34m[\u001b[0m\u001b[0mkertypes\u001b[0m\u001b[0;34m[\u001b[0m\u001b[0mvtype\u001b[0m\u001b[0;34m]\u001b[0m\u001b[0;34m]\u001b[0m\u001b[0;34m\u001b[0m\u001b[0;34m\u001b[0m\u001b[0m\n\u001b[0;32m--> 510\u001b[0;31m         \u001b[0mKval\u001b[0m\u001b[0;34m[\u001b[0m\u001b[0;34m:\u001b[0m\u001b[0;34m,\u001b[0m \u001b[0mii\u001b[0m\u001b[0;34m]\u001b[0m \u001b[0;34m=\u001b[0m \u001b[0mfunc\u001b[0m\u001b[0;34m(\u001b[0m\u001b[0mbw\u001b[0m\u001b[0;34m[\u001b[0m\u001b[0mii\u001b[0m\u001b[0;34m]\u001b[0m\u001b[0;34m,\u001b[0m \u001b[0mdata\u001b[0m\u001b[0;34m[\u001b[0m\u001b[0;34m:\u001b[0m\u001b[0;34m,\u001b[0m \u001b[0mii\u001b[0m\u001b[0;34m]\u001b[0m\u001b[0;34m,\u001b[0m \u001b[0mdata_predict\u001b[0m\u001b[0;34m[\u001b[0m\u001b[0mii\u001b[0m\u001b[0;34m]\u001b[0m\u001b[0;34m)\u001b[0m\u001b[0;34m\u001b[0m\u001b[0;34m\u001b[0m\u001b[0m\n\u001b[0m\u001b[1;32m    511\u001b[0m \u001b[0;34m\u001b[0m\u001b[0m\n\u001b[1;32m    512\u001b[0m     \u001b[0miscontinuous\u001b[0m \u001b[0;34m=\u001b[0m \u001b[0mnp\u001b[0m\u001b[0;34m.\u001b[0m\u001b[0marray\u001b[0m\u001b[0;34m(\u001b[0m\u001b[0;34m[\u001b[0m\u001b[0mc\u001b[0m \u001b[0;34m==\u001b[0m \u001b[0;34m'c'\u001b[0m \u001b[0;32mfor\u001b[0m \u001b[0mc\u001b[0m \u001b[0;32min\u001b[0m \u001b[0mvar_type\u001b[0m\u001b[0;34m]\u001b[0m\u001b[0;34m)\u001b[0m\u001b[0;34m\u001b[0m\u001b[0;34m\u001b[0m\u001b[0m\n",
      "\u001b[0;32m~/anaconda3/envs/venv/lib/python3.6/site-packages/statsmodels/nonparametric/kernels.py\u001b[0m in \u001b[0;36mgaussian\u001b[0;34m(h, Xi, x)\u001b[0m\n\u001b[1;32m    126\u001b[0m \u001b[0;34m\u001b[0m\u001b[0m\n\u001b[1;32m    127\u001b[0m     \"\"\"\n\u001b[0;32m--> 128\u001b[0;31m     \u001b[0;32mreturn\u001b[0m \u001b[0;34m(\u001b[0m\u001b[0;36m1.\u001b[0m \u001b[0;34m/\u001b[0m \u001b[0mnp\u001b[0m\u001b[0;34m.\u001b[0m\u001b[0msqrt\u001b[0m\u001b[0;34m(\u001b[0m\u001b[0;36m2\u001b[0m \u001b[0;34m*\u001b[0m \u001b[0mnp\u001b[0m\u001b[0;34m.\u001b[0m\u001b[0mpi\u001b[0m\u001b[0;34m)\u001b[0m\u001b[0;34m)\u001b[0m \u001b[0;34m*\u001b[0m \u001b[0mnp\u001b[0m\u001b[0;34m.\u001b[0m\u001b[0mexp\u001b[0m\u001b[0;34m(\u001b[0m\u001b[0;34m-\u001b[0m\u001b[0;34m(\u001b[0m\u001b[0mXi\u001b[0m \u001b[0;34m-\u001b[0m \u001b[0mx\u001b[0m\u001b[0;34m)\u001b[0m\u001b[0;34m**\u001b[0m\u001b[0;36m2\u001b[0m \u001b[0;34m/\u001b[0m \u001b[0;34m(\u001b[0m\u001b[0mh\u001b[0m\u001b[0;34m**\u001b[0m\u001b[0;36m2\u001b[0m \u001b[0;34m*\u001b[0m \u001b[0;36m2.\u001b[0m\u001b[0;34m)\u001b[0m\u001b[0;34m)\u001b[0m\u001b[0;34m\u001b[0m\u001b[0;34m\u001b[0m\u001b[0m\n\u001b[0m\u001b[1;32m    129\u001b[0m \u001b[0;34m\u001b[0m\u001b[0m\n\u001b[1;32m    130\u001b[0m \u001b[0;34m\u001b[0m\u001b[0m\n",
      "\u001b[0;31mKeyboardInterrupt\u001b[0m: "
     ]
    },
    {
     "data": {
      "image/png": "[encoded data removed]",
      "text/plain": [
       "<Figure size 432x432 with 3 Axes>"
      ]
     },
     "metadata": {
      "needs_background": "light"
     },
     "output_type": "display_data"
    }
   ],
   "source": [
    "# Approximation using Monte Carlo \n",
    "import seaborn as sns\n",
    "import pandas as pd\n",
    "import numpy as np\n",
    "imps_ctrl,convs_ctrl=16500, 30 \n",
    "imps_test, convs_test=17000, 50\n",
    "\n",
    "#Beta functions for the two sets\n",
    "a_C, b_C = convs_ctrl+1, imps_ctrl-convs_ctrl+1\n",
    "a_T, b_T = convs_test+1, imps_test-convs_test+1\n",
    "\n",
    "val_C=np.random.beta(a_C, b_C, 1000000)\n",
    "val_T=np.random.beta(a_T, b_T, 1000000)\n",
    "vals=np.vstack([val_C, val_T]).T\n",
    "\n",
    "limit=0.004\n",
    "\n",
    "df=pd.DataFrame(vals, columns=['Control', 'Test'])\n",
    "df=df[df['Control']<limit]\n",
    "df=df[df['Test']<limit]\n",
    "g=sns.jointplot(x=df.Control, y=df.Test, kind='kde', n_levels=15)\n",
    "g.ax_joint.plot([0.0015, limit], [0.0015, limit])"
   ]
  },
  {
   "cell_type": "code",
   "execution_count": 141,
   "metadata": {},
   "outputs": [
    {
     "name": "stderr",
     "output_type": "stream",
     "text": [
      "Auto-assigning NUTS sampler...\n",
      "Initializing NUTS using jitter+adapt_diag...\n",
      "Multiprocess sampling (2 chains in 2 jobs)\n",
      "NUTS: [p_B, p_A]\n",
      "Sampling 2 chains: 100%|██████████| 61000/61000 [00:26<00:00, 2332.00draws/s]\n",
      "/Users/isaac/anaconda3/envs/venv/lib/python3.6/site-packages/ipykernel_launcher.py:41: VisibleDeprecationWarning: Passing `normed=True` on non-uniform bins has always been broken, and computes neither the probability density function nor the probability mass function. The result is only correct if the bins are uniform, when density=True will produce the same result anyway. The argument will be removed in a future version of numpy.\n",
      "/Users/isaac/anaconda3/envs/venv/lib/python3.6/site-packages/ipykernel_launcher.py:42: VisibleDeprecationWarning: Passing `normed=True` on non-uniform bins has always been broken, and computes neither the probability density function nor the probability mass function. The result is only correct if the bins are uniform, when density=True will produce the same result anyway. The argument will be removed in a future version of numpy.\n"
     ]
    },
    {
     "data": {
      "text/plain": [
       "<matplotlib.legend.Legend at 0x12ebb3128>"
      ]
     },
     "execution_count": 141,
     "metadata": {},
     "output_type": "execute_result"
    },
    {
     "data": {
      "image/png": "[encoded data removed]",
      "text/plain": [
       "<Figure size 504x360 with 1 Axes>"
      ]
     },
     "metadata": {
      "needs_background": "light"
     },
     "output_type": "display_data"
    }
   ],
   "source": [
    "from scipy.stats import beta\n",
    "import pymc3 as pm\n",
    "import numpy as np\n",
    "import matplotlib.pyplot as plt\n",
    "\n",
    "pA_true = 0.05\n",
    "pB_true = 0.07\n",
    "\n",
    "N_A = 200\n",
    "N_B = 200\n",
    "\n",
    "obs_A = np.random.binomial(1, pA_true, size=N_A)\n",
    "obs_B = np.random.binomial(1, pB_true, size=N_B)\n",
    "\n",
    "alpha_prior = 3\n",
    "beta_prior = 10\n",
    "\n",
    "np.random.seed(123)\n",
    "with pm.Model() as ab_model:\n",
    "    #priors\n",
    "    p_A = pm.distributions.continuous.Beta('p_A',alpha=alpha_prior,beta=beta_prior)\n",
    "    p_B = pm.distributions.continuous.Beta('p_B',alpha=alpha_prior,beta=beta_prior)\n",
    "    #likelihoods\n",
    "    likelihood_A = pm.Bernoulli('likelihood_A', p_A, observed=obs_A)\n",
    "    likelihood_B = pm.Bernoulli('likelihood_B', p_B, observed=obs_B)\n",
    "\n",
    "    trace = pm.sample(30000)\n",
    "\n",
    "cA = np.sum(obs_A)\n",
    "nA = len(obs_A)\n",
    "\n",
    "cB = np.sum(obs_B)\n",
    "nB = len(obs_B)\n",
    "\n",
    "nvals = 1000\n",
    "\n",
    "prior = [beta.pdf(x, alpha_prior, beta_prior) for x in np.linspace(0,1,75)]\n",
    "pA_analytic = [beta.pdf(x, alpha_prior + cA, beta_prior + nA-cA) for x in np.linspace(0,1,nvals)]\n",
    "pB_analytic = [beta.pdf(x, alpha_prior + cB, beta_prior + nB-cB) for x in np.linspace(0,1,nvals)]\n",
    "\n",
    "pA_numerical, edges_A = np.histogram(trace['p_A'][1000:],normed=True,bins=50)\n",
    "pB_numerical, edges_B = np.histogram(trace['p_B'][1000:],normed=True,bins=50)\n",
    "x_A = 0.5 * (edges_A[0:-1] + edges_A[1:])\n",
    "x_B = 0.5 * (edges_B[0:-1] + edges_B[1:])\n",
    "\n",
    "fig = plt.figure(figsize=(7, 5))\n",
    "\n",
    "x = np.linspace(0,1,nvals)\n",
    "plt.plot(np.linspace(0,1,75), prior, 'k.', label='prior')\n",
    "plt.plot(x, pA_analytic, 'b',lw=2, label='pA-analytic')\n",
    "plt.plot(x, pB_analytic, 'r',lw=2, label='pB-analytic')\n",
    "plt.plot(x_A, pA_numerical,'--b',lw=3, label='pA-pyMC3')\n",
    "plt.plot(x_B, pB_numerical,'--r',lw=3, label='pB-pyMC3')\n",
    "plt.xlim([0.0,0.5])\n",
    "plt.xlabel('Conversion Rate')\n",
    "plt.legend(loc=1,fontsize=18)"
   ]
  },
  {
   "cell_type": "code",
   "execution_count": 160,
   "metadata": {},
   "outputs": [
    {
     "data": {
      "text/plain": [
       "60000"
      ]
     },
     "execution_count": 160,
     "metadata": {},
     "output_type": "execute_result"
    }
   ],
   "source": [
    "len(trace['p_A'])"
   ]
  },
  {
   "cell_type": "code",
   "execution_count": 145,
   "metadata": {},
   "outputs": [
    {
     "data": {
      "text/plain": [
       "array([2.95475945e-02, 9.84919815e-02, 1.08341180e-01, 3.15174341e-01,\n",
       "       6.50047078e-01, 1.30994335e+00, 2.14712520e+00, 3.41767176e+00,\n",
       "       4.91474988e+00, 7.43122001e+00, 9.91814254e+00, 1.23558191e+01,\n",
       "       1.47147020e+01, 1.65860497e+01, 1.82062428e+01, 1.96048289e+01,\n",
       "       1.96442257e+01, 1.95752813e+01, 1.91813134e+01, 1.84967941e+01,\n",
       "       1.71228310e+01, 1.50988208e+01, 1.33949095e+01, 1.17697918e+01,\n",
       "       9.61281740e+00, 7.98769970e+00, 6.58418896e+00, 5.05263865e+00,\n",
       "       3.89043327e+00, 3.14189421e+00, 2.20622039e+00, 1.78270487e+00,\n",
       "       1.18190378e+00, 1.03416581e+00, 6.05725686e-01, 4.28440120e-01,\n",
       "       3.00400544e-01, 2.21606958e-01, 1.37888774e-01, 7.87935852e-02,\n",
       "       6.40197880e-02, 2.95475945e-02, 2.95475945e-02, 3.44721935e-02,\n",
       "       2.46229954e-02, 9.84919815e-03, 4.92459908e-03, 9.84919815e-03,\n",
       "       0.00000000e+00, 4.92459908e-03])"
      ]
     },
     "execution_count": 145,
     "metadata": {},
     "output_type": "execute_result"
    }
   ],
   "source": [
    "pA_numerical"
   ]
  },
  {
   "cell_type": "code",
   "execution_count": 168,
   "metadata": {},
   "outputs": [
    {
     "data": {
      "text/plain": [
       "51"
      ]
     },
     "execution_count": 168,
     "metadata": {},
     "output_type": "execute_result"
    }
   ],
   "source": [
    "len(edges_A)"
   ]
  },
  {
   "cell_type": "code",
   "execution_count": 167,
   "metadata": {},
   "outputs": [
    {
     "data": {
      "text/plain": [
       "50"
      ]
     },
     "execution_count": 167,
     "metadata": {},
     "output_type": "execute_result"
    }
   ],
   "source": [
    "len(pA_numerical)"
   ]
  },
  {
   "cell_type": "code",
   "execution_count": 165,
   "metadata": {},
   "outputs": [
    {
     "data": {
      "text/plain": [
       "50"
      ]
     },
     "execution_count": 165,
     "metadata": {},
     "output_type": "execute_result"
    }
   ],
   "source": [
    "len(edges_A[0:-1])"
   ]
  },
  {
   "cell_type": "code",
   "execution_count": 166,
   "metadata": {},
   "outputs": [
    {
     "data": {
      "text/plain": [
       "50"
      ]
     },
     "execution_count": 166,
     "metadata": {},
     "output_type": "execute_result"
    }
   ],
   "source": [
    "len(edges_A[1:])"
   ]
  },
  {
   "cell_type": "code",
   "execution_count": 175,
   "metadata": {},
   "outputs": [],
   "source": [
    "samp = [1.0,2.0,3.0,4.0,5.0]"
   ]
  },
  {
   "cell_type": "code",
   "execution_count": 176,
   "metadata": {},
   "outputs": [
    {
     "ename": "TypeError",
     "evalue": "can't multiply sequence by non-int of type 'float'",
     "output_type": "error",
     "traceback": [
      "\u001b[0;31m---------------------------------------------------------------------------\u001b[0m",
      "\u001b[0;31mTypeError\u001b[0m                                 Traceback (most recent call last)",
      "\u001b[0;32m<ipython-input-176-7dbeda1a8a67>\u001b[0m in \u001b[0;36m<module>\u001b[0;34m\u001b[0m\n\u001b[0;32m----> 1\u001b[0;31m \u001b[0;36m0.5\u001b[0m \u001b[0;34m*\u001b[0m \u001b[0;34m(\u001b[0m\u001b[0msamp\u001b[0m\u001b[0;34m[\u001b[0m\u001b[0;36m0\u001b[0m\u001b[0;34m:\u001b[0m\u001b[0;34m-\u001b[0m\u001b[0;36m1\u001b[0m\u001b[0;34m]\u001b[0m \u001b[0;34m+\u001b[0m \u001b[0msamp\u001b[0m\u001b[0;34m[\u001b[0m\u001b[0;36m1\u001b[0m\u001b[0;34m:\u001b[0m\u001b[0;34m]\u001b[0m\u001b[0;34m)\u001b[0m\u001b[0;34m\u001b[0m\u001b[0;34m\u001b[0m\u001b[0m\n\u001b[0m",
      "\u001b[0;31mTypeError\u001b[0m: can't multiply sequence by non-int of type 'float'"
     ]
    }
   ],
   "source": [
    "0.5 * (samp[0:-1] + samp[1:])"
   ]
  },
  {
   "cell_type": "code",
   "execution_count": 150,
   "metadata": {},
   "outputs": [
    {
     "data": {
      "text/plain": [
       "[2, 3, 4, 5]"
      ]
     },
     "execution_count": 150,
     "metadata": {},
     "output_type": "execute_result"
    }
   ],
   "source": [
    "samp[1:]"
   ]
  },
  {
   "cell_type": "code",
   "execution_count": 162,
   "metadata": {},
   "outputs": [
    {
     "data": {
      "text/plain": [
       "50"
      ]
     },
     "execution_count": 162,
     "metadata": {},
     "output_type": "execute_result"
    }
   ],
   "source": [
    "len(x_A)"
   ]
  },
  {
   "cell_type": "code",
   "execution_count": 182,
   "metadata": {},
   "outputs": [
    {
     "data": {
      "text/plain": [
       "array([0.03159064, 0.03503237, 0.0384741 , 0.04191583, 0.04535757,\n",
       "       0.0487993 , 0.05224103, 0.05568276, 0.0591245 , 0.06256623,\n",
       "       0.06600796, 0.06944969, 0.07289143, 0.07633316, 0.07977489,\n",
       "       0.08321662, 0.08665836, 0.09010009, 0.09354182, 0.09698355,\n",
       "       0.10042529, 0.10386702, 0.10730875, 0.11075048, 0.11419222,\n",
       "       0.11763395, 0.12107568, 0.12451741, 0.12795915, 0.13140088,\n",
       "       0.13484261, 0.13828434, 0.14172608, 0.14516781, 0.14860954,\n",
       "       0.15205127, 0.15549301, 0.15893474, 0.16237647, 0.1658182 ,\n",
       "       0.16925994, 0.17270167, 0.1761434 , 0.17958513, 0.18302687,\n",
       "       0.1864686 , 0.18991033, 0.19335206, 0.1967938 , 0.20023553,\n",
       "       0.20367726])"
      ]
     },
     "execution_count": 182,
     "metadata": {},
     "output_type": "execute_result"
    }
   ],
   "source": [
    "edges_A"
   ]
  },
  {
   "cell_type": "code",
   "execution_count": 179,
   "metadata": {},
   "outputs": [
    {
     "data": {
      "text/plain": [
       "array([0.03159064, 0.03503237, 0.0384741 , 0.04191583, 0.04535757,\n",
       "       0.0487993 , 0.05224103, 0.05568276, 0.0591245 , 0.06256623,\n",
       "       0.06600796, 0.06944969, 0.07289143, 0.07633316, 0.07977489,\n",
       "       0.08321662, 0.08665836, 0.09010009, 0.09354182, 0.09698355,\n",
       "       0.10042529, 0.10386702, 0.10730875, 0.11075048, 0.11419222,\n",
       "       0.11763395, 0.12107568, 0.12451741, 0.12795915, 0.13140088,\n",
       "       0.13484261, 0.13828434, 0.14172608, 0.14516781, 0.14860954,\n",
       "       0.15205127, 0.15549301, 0.15893474, 0.16237647, 0.1658182 ,\n",
       "       0.16925994, 0.17270167, 0.1761434 , 0.17958513, 0.18302687,\n",
       "       0.1864686 , 0.18991033, 0.19335206, 0.1967938 , 0.20023553])"
      ]
     },
     "execution_count": 179,
     "metadata": {},
     "output_type": "execute_result"
    }
   ],
   "source": [
    "edges_A[0:-1]"
   ]
  },
  {
   "cell_type": "code",
   "execution_count": 180,
   "metadata": {},
   "outputs": [
    {
     "data": {
      "text/plain": [
       "array([0.03503237, 0.0384741 , 0.04191583, 0.04535757, 0.0487993 ,\n",
       "       0.05224103, 0.05568276, 0.0591245 , 0.06256623, 0.06600796,\n",
       "       0.06944969, 0.07289143, 0.07633316, 0.07977489, 0.08321662,\n",
       "       0.08665836, 0.09010009, 0.09354182, 0.09698355, 0.10042529,\n",
       "       0.10386702, 0.10730875, 0.11075048, 0.11419222, 0.11763395,\n",
       "       0.12107568, 0.12451741, 0.12795915, 0.13140088, 0.13484261,\n",
       "       0.13828434, 0.14172608, 0.14516781, 0.14860954, 0.15205127,\n",
       "       0.15549301, 0.15893474, 0.16237647, 0.1658182 , 0.16925994,\n",
       "       0.17270167, 0.1761434 , 0.17958513, 0.18302687, 0.1864686 ,\n",
       "       0.18991033, 0.19335206, 0.1967938 , 0.20023553, 0.20367726])"
      ]
     },
     "execution_count": 180,
     "metadata": {},
     "output_type": "execute_result"
    }
   ],
   "source": [
    "edges_A[1:]"
   ]
  },
  {
   "cell_type": "code",
   "execution_count": 183,
   "metadata": {},
   "outputs": [
    {
     "data": {
      "text/plain": [
       "array([0.0333115 , 0.03675324, 0.04019497, 0.0436367 , 0.04707843,\n",
       "       0.05052017, 0.0539619 , 0.05740363, 0.06084536, 0.0642871 ,\n",
       "       0.06772883, 0.07117056, 0.07461229, 0.07805403, 0.08149576,\n",
       "       0.08493749, 0.08837922, 0.09182096, 0.09526269, 0.09870442,\n",
       "       0.10214615, 0.10558789, 0.10902962, 0.11247135, 0.11591308,\n",
       "       0.11935482, 0.12279655, 0.12623828, 0.12968001, 0.13312175,\n",
       "       0.13656348, 0.14000521, 0.14344694, 0.14688868, 0.15033041,\n",
       "       0.15377214, 0.15721387, 0.1606556 , 0.16409734, 0.16753907,\n",
       "       0.1709808 , 0.17442253, 0.17786427, 0.181306  , 0.18474773,\n",
       "       0.18818946, 0.1916312 , 0.19507293, 0.19851466, 0.20195639])"
      ]
     },
     "execution_count": 183,
     "metadata": {},
     "output_type": "execute_result"
    }
   ],
   "source": [
    "0.5 * (edges_A[0:-1] + edges_A[1:])"
   ]
  },
  {
   "cell_type": "code",
   "execution_count": 2,
   "metadata": {},
   "outputs": [
    {
     "data": {
      "text/plain": [
       "'B'"
      ]
     },
     "execution_count": 2,
     "metadata": {},
     "output_type": "execute_result"
    }
   ],
   "source": [
    "chr(ord('A') + 1)"
   ]
  },
  {
   "cell_type": "code",
   "execution_count": null,
   "metadata": {},
   "outputs": [],
   "source": []
  }
 ],
 "metadata": {
  "kernelspec": {
   "display_name": "Python 3",
   "language": "python",
   "name": "python3"
  },
  "language_info": {
   "codemirror_mode": {
    "name": "ipython",
    "version": 3
   },
   "file_extension": ".py",
   "mimetype": "text/x-python",
   "name": "python",
   "nbconvert_exporter": "python",
   "pygments_lexer": "ipython3",
   "version": "3.6.8"
  }
 },
 "nbformat": 4,
 "nbformat_minor": 2
}
