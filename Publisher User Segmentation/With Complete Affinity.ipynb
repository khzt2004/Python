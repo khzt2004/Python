{
 "cells": [
  {
   "cell_type": "code",
   "execution_count": 1,
   "metadata": {},
   "outputs": [],
   "source": [
    "import numpy as np\n",
    "import scipy.stats as stats\n",
    "import seaborn as sns\n",
    "import matplotlib.pyplot as plt\n",
    "import pandas as pd"
   ]
  },
  {
   "cell_type": "code",
   "execution_count": 2,
   "metadata": {},
   "outputs": [],
   "source": [
    "############## HELPERS FUNCTION ###############\n",
    "\n",
    "## DESCRIBE\n",
    "def tellMeStats(df):\n",
    "    total_users = np.sum(df.users)\n",
    "    total_new_users = np.sum(df.new_users)\n",
    "    total_returning_users = total_users - total_new_users\n",
    "    #total_page_views = np.sum(df.pageviews)\n",
    "    #total_unique_page_views = np.sum(df.unique_pageviews)\n",
    "    total_time_on_page = np.sum(df.avg_time_on_page)\n",
    "\n",
    "    print ('Total Users: ', total_users, \n",
    "           '\\nTotal New Users:', total_new_users,\n",
    "           '\\nTotal Returning Users:', total_returning_users,\n",
    "           '\\nTotal Duration:', total_time_on_page)\n",
    "\n",
    "#DESCRIBE GENDER\n",
    "def tellMeFemaleStats(df): \n",
    "    female_users = df[df.gender == 'female']\n",
    "    female_users_stats = df[df.gender == 'female'].users.sum()\n",
    "    print('female users: ', female_users_stats, ' which is {}'.format((female_users_stats/df.users.sum())*100), 'of all users')\n",
    "    return female_users\n",
    "\n",
    "def tellMeMaleStats(df): \n",
    "    male_users = df[df.gender == 'male']\n",
    "    male_users_stats = df[df.gender == 'male'].users.sum()\n",
    "    print('male users in: ', male_users_stats, ' which is {}'.format((male_users_stats/df.users.sum())*100), 'of all users')\n",
    "    return male_users\n",
    "        \n",
    "#DESCRIBE AGE\n",
    "def tellMeAgeStats(df, agegroup): \n",
    "    age_group = df[df.age == agegroup]\n",
    "    age_group_stats = df[df.age == agegroup].users.sum()\n",
    "    print('Users in their', agegroup, 'totaled to:', age_group_stats, ' which is {}'.format((age_group_stats/df.users.sum())*100), 'of all users')\n",
    "    return age_group\n",
    "    \n",
    "## GET UNIQUE TAGS & Words\n",
    "def getTags(series):\n",
    "    tags = [] \n",
    "    for list in series:\n",
    "        for word in list:\n",
    "            tags.append(word)\n",
    "            \n",
    "    return tags #list of tags\n",
    "        \n",
    "def getUniqueWords(allWords) :\n",
    "    uniqueWords = [] \n",
    "    for i in allWords:\n",
    "        if not i in uniqueWords:\n",
    "            uniqueWords.append(i)\n",
    "            \n",
    "    return uniqueWords #series of unique words\n",
    "\n",
    "# CALCULATE TAG FREQUENCY\n",
    "def getFreqOut(dataframe):\n",
    "    total_tags = getTags(dataframe.tag)\n",
    "    unique_tags = getUniqueWords(total_tags)\n",
    "\n",
    "    print ('# Tags: ', len(total_tags))\n",
    "    print ('# Unique Tags: ', len(unique_tags))\n",
    "\n",
    "    #Count how many times each tag appears on the list\n",
    "    unique_tags_list, counts = np.unique(total_tags, return_counts=True)\n",
    "    unique_tag_count = dict(zip(unique_tags_list, counts))\n",
    "\n",
    "    #Put them to Dataframe\n",
    "    tag_freq = pd.DataFrame.from_dict(unique_tag_count, orient='index').reset_index()\n",
    "    tag_freq.columns = ['tags', 'counts']\n",
    "\n",
    "    #Calculate Tag Frequency\n",
    "    total_tag_frequency = np.sum(tag_freq.counts)\n",
    "    tag_freq['tag_freq'] = (tag_freq.counts / total_tag_frequency)\n",
    "\n",
    "    #Sort them\n",
    "    tag_freq = tag_freq.sort_values('tag_freq', ascending=False)\n",
    "    \n",
    "    return tag_freq #returns dataframe"
   ]
  },
  {
   "cell_type": "code",
   "execution_count": 4,
   "metadata": {},
   "outputs": [],
   "source": [
    "#combined_f = (pd.read_csv('affinity_f_combined.csv', comment = '#').dropna())\n",
    "#combined_f['gender'] = 'female'\n",
    "\n",
    "#combined_m = (pd.read_csv('affinity_m_combined.csv', comment = '#').dropna())\n",
    "#combined_m['gender'] = 'female'"
   ]
  },
  {
   "cell_type": "code",
   "execution_count": 3,
   "metadata": {},
   "outputs": [],
   "source": [
    "#combined_csv = pd.concat([combined_f, combined_m]).reset_index().drop('index', axis=1)\n",
    "#combined_csv.to_csv( \"affinity_combined.csv\", index=False )\n",
    "\n",
    "combined = (pd.read_csv('combined_clean.csv', comment = '#').dropna())"
   ]
  },
  {
   "cell_type": "code",
   "execution_count": 4,
   "metadata": {},
   "outputs": [
    {
     "data": {
      "text/plain": [
       "(14535099, 9)"
      ]
     },
     "execution_count": 4,
     "metadata": {},
     "output_type": "execute_result"
    }
   ],
   "source": [
    "combined.shape"
   ]
  },
  {
   "cell_type": "code",
   "execution_count": null,
   "metadata": {},
   "outputs": [],
   "source": [
    "combined.head()"
   ]
  },
  {
   "cell_type": "code",
   "execution_count": null,
   "metadata": {},
   "outputs": [],
   "source": [
    "tellMeStats(combined)"
   ]
  },
  {
   "cell_type": "code",
   "execution_count": null,
   "metadata": {},
   "outputs": [],
   "source": []
  }
 ],
 "metadata": {
  "kernelspec": {
   "display_name": "Python 3",
   "language": "python",
   "name": "python3"
  },
  "language_info": {
   "codemirror_mode": {
    "name": "ipython",
    "version": 3
   },
   "file_extension": ".py",
   "mimetype": "text/x-python",
   "name": "python",
   "nbconvert_exporter": "python",
   "pygments_lexer": "ipython3",
   "version": "3.5.6"
  }
 },
 "nbformat": 4,
 "nbformat_minor": 2
}
