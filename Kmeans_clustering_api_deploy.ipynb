{
 "cells": [
  {
   "cell_type": "code",
   "execution_count": null,
   "metadata": {},
   "outputs": [],
   "source": [
    "# https://mechlab-engineering.de/2017/11/deploy-your-machine-learning-model-as-rest-api-in-less-than-1-hour-with-scikit-learn-and-docker/"
   ]
  },
  {
   "cell_type": "code",
   "execution_count": 6,
   "metadata": {},
   "outputs": [],
   "source": [
    "from sklearn import datasets\n",
    "import matplotlib.pyplot as plt\n",
    "import pandas as pd\n",
    "from sklearn.cluster import KMeans"
   ]
  },
  {
   "cell_type": "code",
   "execution_count": 19,
   "metadata": {},
   "outputs": [],
   "source": [
    "iris = datasets.load_iris()"
   ]
  },
  {
   "cell_type": "code",
   "execution_count": 8,
   "metadata": {},
   "outputs": [],
   "source": [
    "X = iris.data[:, :2]\n",
    "y = iris.target"
   ]
  },
  {
   "cell_type": "code",
   "execution_count": 9,
   "metadata": {},
   "outputs": [
    {
     "data": {
      "text/plain": [
       "KMeans(algorithm='auto', copy_x=True, init='k-means++', max_iter=300,\n",
       "       n_clusters=3, n_init=10, n_jobs=4, precompute_distances='auto',\n",
       "       random_state=21, tol=0.0001, verbose=0)"
      ]
     },
     "execution_count": 9,
     "metadata": {},
     "output_type": "execute_result"
    }
   ],
   "source": [
    "km = KMeans(n_clusters = 3, n_jobs = 4, random_state=21)\n",
    "km.fit(X)"
   ]
  },
  {
   "cell_type": "code",
   "execution_count": 10,
   "metadata": {},
   "outputs": [],
   "source": [
    "import pickle\n",
    "pickle.dump(km, open('Kmeans_clustering_model.pkl', 'wb'))"
   ]
  },
  {
   "cell_type": "raw",
   "metadata": {},
   "source": [
    "## https://mechlab-engineering.de/2017/11/deploy-your-machine-learning-model-as-rest-api-in-less-than-1-hour-with-scikit-learn-and-docker/\n",
    "## command line:\n",
    "\n",
    "mkdir DockerFiles\n",
    "\n",
    "cd DockerFiles\n",
    "\n",
    "touch Dockerfile ## this creates empty docker file, fill this with instructions \n",
    "\n",
    "## make sure files are in current working directory ie DockerFiles folder:\n",
    "## requirements.txt (list of required libraries to install)\n",
    "## python script for flask\n",
    "## python pickle for model"
   ]
  },
  {
   "cell_type": "code",
   "execution_count": null,
   "metadata": {},
   "outputs": [],
   "source": [
    "## Once dockerfile is ready and assets placed in current working directory, run:\n",
    "\n",
    "docker build -t myimage1:1.0 .\n",
    "\n",
    "## once built, list the images in docker and select the correct image ID:\n",
    "docker images\n",
    "\n",
    "docker run -p 3000:5000 -it b8412dfe4a31 ## replace b8412dfe4a31 with image ID\n",
    "    \n",
    "## query string parameters are dependent on the variables declared in app.py\n",
    "\n",
    "http://localhost:3000/prediction/api/v1.0/kmeans_prediction?length=5.5&width=2.0"
   ]
  },
  {
   "cell_type": "markdown",
   "metadata": {},
   "source": [
    "## To remove all docker images and containers\n",
    "\n",
    "docker rm $(docker ps -a -q)\n",
    "\n",
    "\n",
    "docker rmi $(docker images -q)"
   ]
  }
 ],
 "metadata": {
  "kernelspec": {
   "display_name": "Python 3",
   "language": "python",
   "name": "python3"
  },
  "language_info": {
   "codemirror_mode": {
    "name": "ipython",
    "version": 3
   },
   "file_extension": ".py",
   "mimetype": "text/x-python",
   "name": "python",
   "nbconvert_exporter": "python",
   "pygments_lexer": "ipython3",
   "version": "3.7.5"
  }
 },
 "nbformat": 4,
 "nbformat_minor": 4
}
