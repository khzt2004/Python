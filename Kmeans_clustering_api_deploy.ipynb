{
 "cells": [
  {
   "cell_type": "code",
   "execution_count": null,
   "metadata": {},
   "outputs": [],
   "source": [
    "# https://mechlab-engineering.de/2017/11/deploy-your-machine-learning-model-as-rest-api-in-less-than-1-hour-with-scikit-learn-and-docker/\n",
    "# https://mechlab-engineering.de/2017/11/deploy-your-machine-learning-model-as-rest-api-in-less-than-1-hour-with-scikit-learn-and-docker/"
   ]
  },
  {
   "cell_type": "markdown",
   "metadata": {},
   "source": [
    "# Deploying a clustering model created in scikit-learn with python's flask API"
   ]
  },
  {
   "cell_type": "markdown",
   "metadata": {},
   "source": [
    "## Load libraries, training dataset and train the model"
   ]
  },
  {
   "cell_type": "code",
   "execution_count": 6,
   "metadata": {},
   "outputs": [],
   "source": [
    "from sklearn import datasets\n",
    "import matplotlib.pyplot as plt\n",
    "import pandas as pd\n",
    "from sklearn.cluster import KMeans"
   ]
  },
  {
   "cell_type": "code",
   "execution_count": 19,
   "metadata": {},
   "outputs": [],
   "source": [
    "iris = datasets.load_iris()"
   ]
  },
  {
   "cell_type": "code",
   "execution_count": 8,
   "metadata": {},
   "outputs": [],
   "source": [
    "X = iris.data[:, :2]\n",
    "y = iris.target"
   ]
  },
  {
   "cell_type": "code",
   "execution_count": 9,
   "metadata": {},
   "outputs": [
    {
     "data": {
      "text/plain": [
       "KMeans(algorithm='auto', copy_x=True, init='k-means++', max_iter=300,\n",
       "       n_clusters=3, n_init=10, n_jobs=4, precompute_distances='auto',\n",
       "       random_state=21, tol=0.0001, verbose=0)"
      ]
     },
     "execution_count": 9,
     "metadata": {},
     "output_type": "execute_result"
    }
   ],
   "source": [
    "km = KMeans(n_clusters = 3, n_jobs = 4, random_state=21)\n",
    "km.fit(X)"
   ]
  },
  {
   "cell_type": "markdown",
   "metadata": {},
   "source": [
    "## Export the model as a pickle"
   ]
  },
  {
   "cell_type": "code",
   "execution_count": 10,
   "metadata": {},
   "outputs": [],
   "source": [
    "import pickle\n",
    "pickle.dump(km, open('Kmeans_clustering_model.pkl', 'wb'))"
   ]
  },
  {
   "cell_type": "markdown",
   "metadata": {},
   "source": [
    "## Create other required files"
   ]
  },
  {
   "cell_type": "raw",
   "metadata": {},
   "source": [
    "We need other files to create other parts of the prediction API:\n",
    "\n",
    "1. Dockerfile\n",
    "2. __init__.py\n",
    "3. app.py\n",
    "4. requirements.txt\n",
    "5. Kmeans_clustering_model.pkl"
   ]
  },
  {
   "cell_type": "markdown",
   "metadata": {},
   "source": [
    "### Dockerfile"
   ]
  },
  {
   "cell_type": "raw",
   "metadata": {},
   "source": [
    "FROM python:3.7\n",
    "MAINTAINER Kevin \n",
    " \n",
    "WORKDIR /app/\n",
    " \n",
    "COPY requirements.txt /app/\n",
    "RUN pip install -r ./requirements.txt\n",
    " \n",
    "COPY app.py __init__.py /app/\n",
    "COPY Kmeans_clustering_model.pkl /app/\n",
    " \n",
    "EXPOSE 5000\n",
    " \n",
    "ENTRYPOINT python ./app.py\n",
    " \n",
    "#save this file as 'Dockerfile'"
   ]
  },
  {
   "cell_type": "markdown",
   "metadata": {},
   "source": [
    "### __init__.py"
   ]
  },
  {
   "cell_type": "markdown",
   "metadata": {},
   "source": [
    "blank file"
   ]
  },
  {
   "cell_type": "markdown",
   "metadata": {},
   "source": [
    "### app.py"
   ]
  },
  {
   "cell_type": "raw",
   "metadata": {},
   "source": [
    "from flask import Flask\n",
    "from flask import request\n",
    "from flask import jsonify\n",
    "from math import log10\n",
    "from sklearn import linear_model\n",
    "import pickle\n",
    " \n",
    "app = Flask(__name__)\n",
    " \n",
    "@app.route('/prediction/api/v1.0/kmeans_prediction', methods=['GET'])\n",
    "def get_prediction():\n",
    " sepal_length = float(request.args.get('length'))\n",
    " sepal_width = float(request.args.get('width'))\n",
    " \n",
    " \n",
    " modelname = 'Kmeans_clustering_model.pkl'\n",
    " #print('Loading %s' % modelname)\n",
    " \n",
    " loaded_model = pickle.load(open(modelname, 'rb'), encoding='latin1')\n",
    " clustering = loaded_model.predict([[sepal_length, sepal_width]])\n",
    " \n",
    " return jsonify(sepal_length=sepal_length,\n",
    " \tsepal_width=sepal_width,\n",
    " \tcluster=float(clustering[0]))\n",
    "  \n",
    "if __name__ == '__main__':\n",
    " app.run(port=5000,host='0.0.0.0')\n",
    " #app.run(debug=True)"
   ]
  },
  {
   "cell_type": "markdown",
   "metadata": {},
   "source": [
    "### requirements.txt"
   ]
  },
  {
   "cell_type": "raw",
   "metadata": {},
   "source": [
    "numpy==1.17.4\n",
    "scipy==1.3.1\n",
    "Flask==1.1.1\n",
    "scikit_learn==0.21.3"
   ]
  },
  {
   "cell_type": "markdown",
   "metadata": {},
   "source": [
    "### Kmeans_clustering_model.pkl"
   ]
  },
  {
   "cell_type": "markdown",
   "metadata": {},
   "source": [
    "Use model exported as pickle"
   ]
  },
  {
   "cell_type": "markdown",
   "metadata": {},
   "source": [
    "## Use Docker to create image and API"
   ]
  },
  {
   "cell_type": "markdown",
   "metadata": {},
   "source": [
    "command line:"
   ]
  },
  {
   "cell_type": "raw",
   "metadata": {},
   "source": [
    "mkdir DockerFiles\n",
    "\n",
    "cd DockerFiles\n",
    "\n",
    "touch Dockerfile >>> this creates empty docker file, fill this with instructions from Dockerfile as specified above\n",
    "\n",
    "## make sure files are in current working directory ie DockerFiles folder:\n",
    "- requirements.txt (list of required libraries to install)\n",
    "- __init__.py\n",
    "- python script for flask\n",
    "- python pickle for model"
   ]
  },
  {
   "cell_type": "markdown",
   "metadata": {},
   "source": [
    "Once dockerfile is ready and assets placed in current working directory, run:"
   ]
  },
  {
   "cell_type": "raw",
   "metadata": {},
   "source": [
    "docker build -t kmeans_clustering_model:1.0 ."
   ]
  },
  {
   "cell_type": "markdown",
   "metadata": {},
   "source": [
    "once built, list the images in docker and select the correct image ID:"
   ]
  },
  {
   "cell_type": "raw",
   "metadata": {},
   "source": [
    "docker images\n",
    "\n",
    "docker run -p 3000:5000 -it b8412dfe4a31 ## replace b8412dfe4a31 with image ID"
   ]
  },
  {
   "cell_type": "markdown",
   "metadata": {},
   "source": [
    "query string parameters are dependent on the variables declared in app.py"
   ]
  },
  {
   "cell_type": "raw",
   "metadata": {},
   "source": [
    "http://localhost:3000/prediction/api/v1.0/kmeans_prediction?length=5.5&width=2.0"
   ]
  },
  {
   "cell_type": "markdown",
   "metadata": {},
   "source": [
    "## To remove all docker images and containers\n",
    "\n",
    "docker rm $(docker ps -a -q)\n",
    "\n",
    "\n",
    "docker rmi $(docker images -q)"
   ]
  }
 ],
 "metadata": {
  "kernelspec": {
   "display_name": "Python 3",
   "language": "python",
   "name": "python3"
  },
  "language_info": {
   "codemirror_mode": {
    "name": "ipython",
    "version": 3
   },
   "file_extension": ".py",
   "mimetype": "text/x-python",
   "name": "python",
   "nbconvert_exporter": "python",
   "pygments_lexer": "ipython3",
   "version": "3.7.5"
  }
 },
 "nbformat": 4,
 "nbformat_minor": 4
}
