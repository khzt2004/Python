{
 "cells": [
  {
   "cell_type": "markdown",
   "metadata": {},
   "source": [
    "# This is a collection of Python snippets"
   ]
  },
  {
   "cell_type": "markdown",
   "metadata": {},
   "source": [
    "## Working with Widgets in Notebooks\n",
    "\n",
    "https://medium.com/@jdchipox/how-to-interact-with-jupyter-33a98686f24e"
   ]
  },
  {
   "cell_type": "markdown",
   "metadata": {},
   "source": [
    "### Containers"
   ]
  },
  {
   "cell_type": "code",
   "execution_count": 6,
   "metadata": {},
   "outputs": [],
   "source": [
    "# some handy functions to use along widgets\n",
    "from IPython.display import display, Markdown, clear_output\n",
    "# widget packages\n",
    "import ipywidgets as widgets# defining some widgets\n",
    "text = widgets.Text(\n",
    "       value='My Text',\n",
    "       description='Title', )\n",
    "\n",
    "calendar = widgets.DatePicker(\n",
    "           description='Select Date')\n",
    "\n",
    "slider = widgets.FloatSlider(\n",
    "         value=1,\n",
    "         min=0,\n",
    "         max=10.0,\n",
    "         step=0.1,)\n",
    "\n",
    "menu = widgets.Dropdown(\n",
    "       options=['red', 'blue', 'green'],\n",
    "       value='red',\n",
    "       description='Color:')\n",
    "\n",
    "checkbox = widgets.Checkbox(\n",
    "           description='Check to invert',)"
   ]
  },
  {
   "cell_type": "code",
   "execution_count": 7,
   "metadata": {},
   "outputs": [
    {
     "data": {
      "application/vnd.jupyter.widget-view+json": {
       "model_id": "8e6e7515933c467eb8afe8259fc4986c",
       "version_major": 2,
       "version_minor": 0
      },
      "text/plain": [
       "DatePicker(value=None, description='Select Date')"
      ]
     },
     "metadata": {},
     "output_type": "display_data"
    }
   ],
   "source": [
    "# You can display any of them by calling the object on a cell\n",
    "calendar"
   ]
  },
  {
   "cell_type": "code",
   "execution_count": 8,
   "metadata": {},
   "outputs": [
    {
     "data": {
      "application/vnd.jupyter.widget-view+json": {
       "model_id": "f92962c3b12f403087a6ec13b8abfc66",
       "version_major": 2,
       "version_minor": 0
      },
      "text/plain": [
       "HBox(children=(VBox(children=(Text(value='My Text', description='Title'), FloatSlider(value=1.0, max=10.0), Dr…"
      ]
     },
     "metadata": {},
     "output_type": "display_data"
    }
   ],
   "source": [
    "# Use a container widget to display individual elements together. They can be nested inside the other\n",
    "\n",
    "box = widgets.VBox([text, slider, menu, calendar, checkbox ])\n",
    "box\n",
    "\n",
    "widgets.HBox([box, box])"
   ]
  },
  {
   "cell_type": "markdown",
   "metadata": {},
   "source": [
    "### A Tabbed container"
   ]
  },
  {
   "cell_type": "code",
   "execution_count": 9,
   "metadata": {},
   "outputs": [
    {
     "data": {
      "application/vnd.jupyter.widget-view+json": {
       "model_id": "4f3cf72057c64a949f8fcd775b78a1d1",
       "version_major": 2,
       "version_minor": 0
      },
      "text/plain": [
       "Tab(children=(VBox(children=(Text(value='My Text', description='Title'), FloatSlider(value=1.0, max=10.0), Dro…"
      ]
     },
     "metadata": {},
     "output_type": "display_data"
    }
   ],
   "source": [
    "# A Tab container\n",
    "\n",
    "# defining a list with the contents of our windows\n",
    "children = [box, box]# initializing a tab\n",
    "tab = widgets.Tab()\n",
    "# setting the tab windows \n",
    "tab.children = children# changing the title of the first and second window\n",
    "tab.set_title(0, 'box')\n",
    "tab.set_title(1, 'copy of box')\n",
    "\n",
    "tab"
   ]
  },
  {
   "cell_type": "code",
   "execution_count": 10,
   "metadata": {},
   "outputs": [
    {
     "name": "stdout",
     "output_type": "stream",
     "text": [
      "Widget text has value My Text, of <class 'str'>\n",
      "Widget checkbox has value False, of <class 'bool'>\n",
      "Widget calendar has value None, of <class 'NoneType'>\n"
     ]
    }
   ],
   "source": [
    "# Inspecting and using values of widgets\n",
    "\n",
    "# current value of text, checkbox and calendar \n",
    "print('Widget text has value {}, of {}'.format(text.value, type(text.value)))\n",
    "\n",
    "print('Widget checkbox has value {}, of {}'.format(checkbox.value, type(checkbox.value)))\n",
    "\n",
    "print('Widget calendar has value {}, of {}'.format(calendar.value, type(calendar.value)))"
   ]
  },
  {
   "cell_type": "markdown",
   "metadata": {},
   "source": [
    "### Dataset explorer and printing values"
   ]
  },
  {
   "cell_type": "code",
   "execution_count": null,
   "metadata": {},
   "outputs": [],
   "source": [
    "# Exploring a dataset\n",
    "\n",
    "import pandas as pd\n",
    "import math\n",
    "import ipywidgets as widgets\n",
    "from IPython.display import display, clear_output, Markdown\n",
    "df = pd.read_csv('https://raw.githubusercontent.com/diegopenilla/Some_Data/master/Downloads/trainingData.csv')\n",
    "\n",
    "\n",
    "\n",
    "# DROPDOWN MENU FOR SELECTING USER-ID\n",
    "users = widgets.Dropdown(\n",
    "    options=list(set(df['USERID'])),\n",
    "    value=1,\n",
    "    description='USER-ID:',\n",
    "    disabled=False)\n",
    "\n",
    "dicti = {} # Initialize dictionary for holding {building(s): floor(s)} for each user.\n",
    "\n",
    "# Button to display info about user\n",
    "buttonuser_info = widgets.Button(description='Show Info')\n",
    "outuser_info = widgets.Output()\n",
    "def on_buttonuser_info_clicked(b):\n",
    "    with outuser_info:\n",
    "        clear_output()\n",
    "        selection = df[df['USERID']==users.value]\n",
    "        visited_places = len(set(selection['SPACEID']))\n",
    "        dicti = {i: 0 for i in list(set(selection['BUILDINGID']))}\n",
    "        for key, val in dicti.items():\n",
    "            dicti[key] = list(set(df.loc[(df[\"USERID\"] ==users.value) & (df[\"BUILDINGID\"] == key), \"FLOOR\"]))\n",
    "        \n",
    "        # Extract distance travelled \n",
    "        lat = list(selection[\"LATITUDE\"])\n",
    "        long = list(selection[\"LONGITUDE\"])\n",
    "        \n",
    "        # Calculate distance between one point and the next\n",
    "        total = []\n",
    "        for latitude, longitude in zip(lat, long):\n",
    "            total.append((latitude, longitude))\n",
    "        rez = []\n",
    "        \n",
    "        # computing distance as the distance between the coordinates x,y from one point to the next.\n",
    "        # (we sorted our dataframe by time, and now we are accesing data from a user)\n",
    "        for i in range(len(total)-1):\n",
    "            rez.append(math.hypot(total[i+1][0] - total[i][0], total[i+1][1] - total[i][1]))   \n",
    "        distance_travelled = sum(rez)\n",
    "        \n",
    "        # display, the information in Markdown to make it look better.\n",
    "        display(Markdown('''For User {}, there are ${}$ observations from ${}$ WAP (*Wireless Access Points*)\n",
    "- Beginning in {} and ending in {}\n",
    "- Using smartphone {}\n",
    "- The user travelled {:.2f} $m$ (does not take into account vertical movemement, change of floors)\n",
    "- Visited places {}\n",
    "- In {} locations with different SPACEID'''.format(users.value, selection.shape[0], selection.shape[1]-9,         \n",
    "                                                   str(selection['TIMESTAMP'].min()), str(selection['TIMESTAMP'].max()),\n",
    "                                                   str(list(set(selection['PHONEID']))[0]), distance_travelled,\n",
    "                                                   str(dicti),len(set(selection['SPACEID'])))))\n",
    "\n",
    "# Links button: buttonuser_info to its output function      \n",
    "buttonuser_info.on_click(on_buttonuser_info_clicked)\n",
    "\n",
    "# Display\n",
    "display(widgets.VBox([users,buttonuser_info, outuser_info]))"
   ]
  },
  {
   "cell_type": "markdown",
   "metadata": {},
   "source": [
    "### Filter a dataframe by value in a column"
   ]
  },
  {
   "cell_type": "code",
   "execution_count": 17,
   "metadata": {},
   "outputs": [
    {
     "data": {
      "text/html": [
       "<div>\n",
       "<style scoped>\n",
       "    .dataframe tbody tr th:only-of-type {\n",
       "        vertical-align: middle;\n",
       "    }\n",
       "\n",
       "    .dataframe tbody tr th {\n",
       "        vertical-align: top;\n",
       "    }\n",
       "\n",
       "    .dataframe thead th {\n",
       "        text-align: right;\n",
       "    }\n",
       "</style>\n",
       "<table border=\"1\" class=\"dataframe\">\n",
       "  <thead>\n",
       "    <tr style=\"text-align: right;\">\n",
       "      <th></th>\n",
       "      <th>Date_of_Week</th>\n",
       "      <th>Year</th>\n",
       "      <th>Month</th>\n",
       "      <th>Channel</th>\n",
       "      <th>Brand</th>\n",
       "      <th>Country</th>\n",
       "      <th>Category</th>\n",
       "      <th>Partnership</th>\n",
       "      <th>NMV</th>\n",
       "      <th>Item</th>\n",
       "      <th>ASP</th>\n",
       "      <th>PV</th>\n",
       "    </tr>\n",
       "  </thead>\n",
       "  <tbody>\n",
       "    <tr>\n",
       "      <th>0</th>\n",
       "      <td>18/2/18</td>\n",
       "      <td>2018</td>\n",
       "      <td>Feb</td>\n",
       "      <td>LLLDD</td>\n",
       "      <td>AV</td>\n",
       "      <td>TH</td>\n",
       "      <td>Health &amp; Beauty</td>\n",
       "      <td>MP</td>\n",
       "      <td>18853.22964</td>\n",
       "      <td>1243.42604</td>\n",
       "      <td>15.162325</td>\n",
       "      <td>41129</td>\n",
       "    </tr>\n",
       "    <tr>\n",
       "      <th>1</th>\n",
       "      <td>28/1/18</td>\n",
       "      <td>2018</td>\n",
       "      <td>Jan</td>\n",
       "      <td>LLLDD</td>\n",
       "      <td>AV</td>\n",
       "      <td>SG</td>\n",
       "      <td>Health &amp; Beauty</td>\n",
       "      <td>MP</td>\n",
       "      <td>0.00000</td>\n",
       "      <td>0.00000</td>\n",
       "      <td>NaN</td>\n",
       "      <td>440</td>\n",
       "    </tr>\n",
       "    <tr>\n",
       "      <th>2</th>\n",
       "      <td>14/1/18</td>\n",
       "      <td>2018</td>\n",
       "      <td>Jan</td>\n",
       "      <td>LLLDD</td>\n",
       "      <td>AV</td>\n",
       "      <td>TH</td>\n",
       "      <td>Health &amp; Beauty</td>\n",
       "      <td>MP</td>\n",
       "      <td>17608.25665</td>\n",
       "      <td>1213.82701</td>\n",
       "      <td>14.506397</td>\n",
       "      <td>43215</td>\n",
       "    </tr>\n",
       "    <tr>\n",
       "      <th>3</th>\n",
       "      <td>4/2/18</td>\n",
       "      <td>2018</td>\n",
       "      <td>Feb</td>\n",
       "      <td>LLLDD</td>\n",
       "      <td>AV</td>\n",
       "      <td>SG</td>\n",
       "      <td>Health &amp; Beauty</td>\n",
       "      <td>MP</td>\n",
       "      <td>0.00000</td>\n",
       "      <td>0.00000</td>\n",
       "      <td>NaN</td>\n",
       "      <td>564</td>\n",
       "    </tr>\n",
       "    <tr>\n",
       "      <th>4</th>\n",
       "      <td>21/1/18</td>\n",
       "      <td>2018</td>\n",
       "      <td>Jan</td>\n",
       "      <td>LLLDD</td>\n",
       "      <td>AV</td>\n",
       "      <td>TH</td>\n",
       "      <td>Health &amp; Beauty</td>\n",
       "      <td>MP</td>\n",
       "      <td>18179.10355</td>\n",
       "      <td>1245.01100</td>\n",
       "      <td>14.601561</td>\n",
       "      <td>44818</td>\n",
       "    </tr>\n",
       "  </tbody>\n",
       "</table>\n",
       "</div>"
      ],
      "text/plain": [
       "  Date_of_Week  Year Month Channel Brand Country         Category Partnership  \\\n",
       "0      18/2/18  2018   Feb   LLLDD    AV      TH  Health & Beauty          MP   \n",
       "1      28/1/18  2018   Jan   LLLDD    AV      SG  Health & Beauty          MP   \n",
       "2      14/1/18  2018   Jan   LLLDD    AV      TH  Health & Beauty          MP   \n",
       "3       4/2/18  2018   Feb   LLLDD    AV      SG  Health & Beauty          MP   \n",
       "4      21/1/18  2018   Jan   LLLDD    AV      TH  Health & Beauty          MP   \n",
       "\n",
       "           NMV        Item        ASP     PV  \n",
       "0  18853.22964  1243.42604  15.162325  41129  \n",
       "1      0.00000     0.00000        NaN    440  \n",
       "2  17608.25665  1213.82701  14.506397  43215  \n",
       "3      0.00000     0.00000        NaN    564  \n",
       "4  18179.10355  1245.01100  14.601561  44818  "
      ]
     },
     "execution_count": 17,
     "metadata": {},
     "output_type": "execute_result"
    }
   ],
   "source": [
    "import pandas as pd\n",
    "import ipywidgets as widgets\n",
    "from ipywidgets import interact, interact_manual\n",
    "\n",
    "# read in the csv file\n",
    "df = pd.read_csv('pivot_raw_data.csv')\n",
    "\n",
    "df.head()"
   ]
  },
  {
   "cell_type": "code",
   "execution_count": null,
   "metadata": {},
   "outputs": [],
   "source": [
    "@interact\n",
    "def show_nmv_more_than(column=['ASP', 'NMV', 'PV', 'Item'], \n",
    "                            x=(10, 100000, 20000)):\n",
    "    return df.loc[df[column] > x]"
   ]
  },
  {
   "cell_type": "markdown",
   "metadata": {},
   "source": [
    "### Widgets for Plots"
   ]
  }
 ],
 "metadata": {
  "kernelspec": {
   "display_name": "Python 3",
   "language": "python",
   "name": "python3"
  },
  "language_info": {
   "codemirror_mode": {
    "name": "ipython",
    "version": 3
   },
   "file_extension": ".py",
   "mimetype": "text/x-python",
   "name": "python",
   "nbconvert_exporter": "python",
   "pygments_lexer": "ipython3",
   "version": "3.6.7"
  }
 },
 "nbformat": 4,
 "nbformat_minor": 4
}
