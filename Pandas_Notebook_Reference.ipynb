{
 "cells": [
  {
   "cell_type": "markdown",
   "metadata": {},
   "source": [
    "# This is a collection of Python snippets"
   ]
  },
  {
   "cell_type": "markdown",
   "metadata": {},
   "source": [
    "## Working with Widgets in Notebooks\n",
    "\n",
    "https://medium.com/@jdchipox/how-to-interact-with-jupyter-33a98686f24e"
   ]
  },
  {
   "cell_type": "markdown",
   "metadata": {},
   "source": [
    "### Containers"
   ]
  },
  {
   "cell_type": "code",
   "execution_count": 6,
   "metadata": {},
   "outputs": [],
   "source": [
    "# some handy functions to use along widgets\n",
    "from IPython.display import display, Markdown, clear_output\n",
    "# widget packages\n",
    "import ipywidgets as widgets# defining some widgets\n",
    "text = widgets.Text(\n",
    "       value='My Text',\n",
    "       description='Title', )\n",
    "\n",
    "calendar = widgets.DatePicker(\n",
    "           description='Select Date')\n",
    "\n",
    "slider = widgets.FloatSlider(\n",
    "         value=1,\n",
    "         min=0,\n",
    "         max=10.0,\n",
    "         step=0.1,)\n",
    "\n",
    "menu = widgets.Dropdown(\n",
    "       options=['red', 'blue', 'green'],\n",
    "       value='red',\n",
    "       description='Color:')\n",
    "\n",
    "checkbox = widgets.Checkbox(\n",
    "           description='Check to invert',)"
   ]
  },
  {
   "cell_type": "code",
   "execution_count": 7,
   "metadata": {},
   "outputs": [
    {
     "data": {
      "application/vnd.jupyter.widget-view+json": {
       "model_id": "8e6e7515933c467eb8afe8259fc4986c",
       "version_major": 2,
       "version_minor": 0
      },
      "text/plain": [
       "DatePicker(value=None, description='Select Date')"
      ]
     },
     "metadata": {},
     "output_type": "display_data"
    }
   ],
   "source": [
    "# You can display any of them by calling the object on a cell\n",
    "calendar"
   ]
  },
  {
   "cell_type": "code",
   "execution_count": 8,
   "metadata": {},
   "outputs": [
    {
     "data": {
      "application/vnd.jupyter.widget-view+json": {
       "model_id": "f92962c3b12f403087a6ec13b8abfc66",
       "version_major": 2,
       "version_minor": 0
      },
      "text/plain": [
       "HBox(children=(VBox(children=(Text(value='My Text', description='Title'), FloatSlider(value=1.0, max=10.0), Dr…"
      ]
     },
     "metadata": {},
     "output_type": "display_data"
    }
   ],
   "source": [
    "# Use a container widget to display individual elements together. They can be nested inside the other\n",
    "\n",
    "box = widgets.VBox([text, slider, menu, calendar, checkbox ])\n",
    "box\n",
    "\n",
    "widgets.HBox([box, box])"
   ]
  },
  {
   "cell_type": "markdown",
   "metadata": {},
   "source": [
    "### A Tabbed container"
   ]
  },
  {
   "cell_type": "code",
   "execution_count": 9,
   "metadata": {},
   "outputs": [
    {
     "data": {
      "application/vnd.jupyter.widget-view+json": {
       "model_id": "4f3cf72057c64a949f8fcd775b78a1d1",
       "version_major": 2,
       "version_minor": 0
      },
      "text/plain": [
       "Tab(children=(VBox(children=(Text(value='My Text', description='Title'), FloatSlider(value=1.0, max=10.0), Dro…"
      ]
     },
     "metadata": {},
     "output_type": "display_data"
    }
   ],
   "source": [
    "# A Tab container\n",
    "\n",
    "# defining a list with the contents of our windows\n",
    "children = [box, box]# initializing a tab\n",
    "tab = widgets.Tab()\n",
    "# setting the tab windows \n",
    "tab.children = children# changing the title of the first and second window\n",
    "tab.set_title(0, 'box')\n",
    "tab.set_title(1, 'copy of box')\n",
    "\n",
    "tab"
   ]
  },
  {
   "cell_type": "code",
   "execution_count": 10,
   "metadata": {},
   "outputs": [
    {
     "name": "stdout",
     "output_type": "stream",
     "text": [
      "Widget text has value My Text, of <class 'str'>\n",
      "Widget checkbox has value False, of <class 'bool'>\n",
      "Widget calendar has value None, of <class 'NoneType'>\n"
     ]
    }
   ],
   "source": [
    "# Inspecting and using values of widgets\n",
    "\n",
    "# current value of text, checkbox and calendar \n",
    "print('Widget text has value {}, of {}'.format(text.value, type(text.value)))\n",
    "\n",
    "print('Widget checkbox has value {}, of {}'.format(checkbox.value, type(checkbox.value)))\n",
    "\n",
    "print('Widget calendar has value {}, of {}'.format(calendar.value, type(calendar.value)))"
   ]
  },
  {
   "cell_type": "markdown",
   "metadata": {},
   "source": [
    "### Dataset explorer and printing values"
   ]
  },
  {
   "cell_type": "code",
   "execution_count": null,
   "metadata": {},
   "outputs": [],
   "source": [
    "# Exploring a dataset\n",
    "\n",
    "import pandas as pd\n",
    "import math\n",
    "import ipywidgets as widgets\n",
    "from IPython.display import display, clear_output, Markdown\n",
    "df = pd.read_csv('https://raw.githubusercontent.com/diegopenilla/Some_Data/master/Downloads/trainingData.csv')\n",
    "\n",
    "\n",
    "\n",
    "# DROPDOWN MENU FOR SELECTING USER-ID\n",
    "users = widgets.Dropdown(\n",
    "    options=list(set(df['USERID'])),\n",
    "    value=1,\n",
    "    description='USER-ID:',\n",
    "    disabled=False)\n",
    "\n",
    "dicti = {} # Initialize dictionary for holding {building(s): floor(s)} for each user.\n",
    "\n",
    "# Button to display info about user\n",
    "buttonuser_info = widgets.Button(description='Show Info')\n",
    "outuser_info = widgets.Output()\n",
    "def on_buttonuser_info_clicked(b):\n",
    "    with outuser_info:\n",
    "        clear_output()\n",
    "        selection = df[df['USERID']==users.value]\n",
    "        visited_places = len(set(selection['SPACEID']))\n",
    "        dicti = {i: 0 for i in list(set(selection['BUILDINGID']))}\n",
    "        for key, val in dicti.items():\n",
    "            dicti[key] = list(set(df.loc[(df[\"USERID\"] ==users.value) & (df[\"BUILDINGID\"] == key), \"FLOOR\"]))\n",
    "        \n",
    "        # Extract distance travelled \n",
    "        lat = list(selection[\"LATITUDE\"])\n",
    "        long = list(selection[\"LONGITUDE\"])\n",
    "        \n",
    "        # Calculate distance between one point and the next\n",
    "        total = []\n",
    "        for latitude, longitude in zip(lat, long):\n",
    "            total.append((latitude, longitude))\n",
    "        rez = []\n",
    "        \n",
    "        # computing distance as the distance between the coordinates x,y from one point to the next.\n",
    "        # (we sorted our dataframe by time, and now we are accesing data from a user)\n",
    "        for i in range(len(total)-1):\n",
    "            rez.append(math.hypot(total[i+1][0] - total[i][0], total[i+1][1] - total[i][1]))   \n",
    "        distance_travelled = sum(rez)\n",
    "        \n",
    "        # display, the information in Markdown to make it look better.\n",
    "        display(Markdown('''For User {}, there are ${}$ observations from ${}$ WAP (*Wireless Access Points*)\n",
    "- Beginning in {} and ending in {}\n",
    "- Using smartphone {}\n",
    "- The user travelled {:.2f} $m$ (does not take into account vertical movemement, change of floors)\n",
    "- Visited places {}\n",
    "- In {} locations with different SPACEID'''.format(users.value, selection.shape[0], selection.shape[1]-9,         \n",
    "                                                   str(selection['TIMESTAMP'].min()), str(selection['TIMESTAMP'].max()),\n",
    "                                                   str(list(set(selection['PHONEID']))[0]), distance_travelled,\n",
    "                                                   str(dicti),len(set(selection['SPACEID'])))))\n",
    "\n",
    "# Links button: buttonuser_info to its output function      \n",
    "buttonuser_info.on_click(on_buttonuser_info_clicked)\n",
    "\n",
    "# Display\n",
    "display(widgets.VBox([users,buttonuser_info, outuser_info]))"
   ]
  },
  {
   "cell_type": "markdown",
   "metadata": {},
   "source": [
    "### Filter a dataframe by value in a column"
   ]
  },
  {
   "cell_type": "code",
   "execution_count": 2,
   "metadata": {},
   "outputs": [
    {
     "data": {
      "text/html": [
       "<div>\n",
       "<style scoped>\n",
       "    .dataframe tbody tr th:only-of-type {\n",
       "        vertical-align: middle;\n",
       "    }\n",
       "\n",
       "    .dataframe tbody tr th {\n",
       "        vertical-align: top;\n",
       "    }\n",
       "\n",
       "    .dataframe thead th {\n",
       "        text-align: right;\n",
       "    }\n",
       "</style>\n",
       "<table border=\"1\" class=\"dataframe\">\n",
       "  <thead>\n",
       "    <tr style=\"text-align: right;\">\n",
       "      <th></th>\n",
       "      <th>Date_of_Week</th>\n",
       "      <th>Year</th>\n",
       "      <th>Month</th>\n",
       "      <th>Channel</th>\n",
       "      <th>Brand</th>\n",
       "      <th>Country</th>\n",
       "      <th>Category</th>\n",
       "      <th>Partnership</th>\n",
       "      <th>NMV</th>\n",
       "      <th>Item</th>\n",
       "      <th>ASP</th>\n",
       "      <th>PV</th>\n",
       "    </tr>\n",
       "  </thead>\n",
       "  <tbody>\n",
       "    <tr>\n",
       "      <th>0</th>\n",
       "      <td>18/2/18</td>\n",
       "      <td>2018</td>\n",
       "      <td>Feb</td>\n",
       "      <td>LLLDD</td>\n",
       "      <td>AV</td>\n",
       "      <td>TH</td>\n",
       "      <td>Health &amp; Beauty</td>\n",
       "      <td>MP</td>\n",
       "      <td>18853.22964</td>\n",
       "      <td>1243.42604</td>\n",
       "      <td>15.162325</td>\n",
       "      <td>41129</td>\n",
       "    </tr>\n",
       "    <tr>\n",
       "      <th>1</th>\n",
       "      <td>28/1/18</td>\n",
       "      <td>2018</td>\n",
       "      <td>Jan</td>\n",
       "      <td>LLLDD</td>\n",
       "      <td>AV</td>\n",
       "      <td>SG</td>\n",
       "      <td>Health &amp; Beauty</td>\n",
       "      <td>MP</td>\n",
       "      <td>0.00000</td>\n",
       "      <td>0.00000</td>\n",
       "      <td>NaN</td>\n",
       "      <td>440</td>\n",
       "    </tr>\n",
       "    <tr>\n",
       "      <th>2</th>\n",
       "      <td>14/1/18</td>\n",
       "      <td>2018</td>\n",
       "      <td>Jan</td>\n",
       "      <td>LLLDD</td>\n",
       "      <td>AV</td>\n",
       "      <td>TH</td>\n",
       "      <td>Health &amp; Beauty</td>\n",
       "      <td>MP</td>\n",
       "      <td>17608.25665</td>\n",
       "      <td>1213.82701</td>\n",
       "      <td>14.506397</td>\n",
       "      <td>43215</td>\n",
       "    </tr>\n",
       "    <tr>\n",
       "      <th>3</th>\n",
       "      <td>4/2/18</td>\n",
       "      <td>2018</td>\n",
       "      <td>Feb</td>\n",
       "      <td>LLLDD</td>\n",
       "      <td>AV</td>\n",
       "      <td>SG</td>\n",
       "      <td>Health &amp; Beauty</td>\n",
       "      <td>MP</td>\n",
       "      <td>0.00000</td>\n",
       "      <td>0.00000</td>\n",
       "      <td>NaN</td>\n",
       "      <td>564</td>\n",
       "    </tr>\n",
       "    <tr>\n",
       "      <th>4</th>\n",
       "      <td>21/1/18</td>\n",
       "      <td>2018</td>\n",
       "      <td>Jan</td>\n",
       "      <td>LLLDD</td>\n",
       "      <td>AV</td>\n",
       "      <td>TH</td>\n",
       "      <td>Health &amp; Beauty</td>\n",
       "      <td>MP</td>\n",
       "      <td>18179.10355</td>\n",
       "      <td>1245.01100</td>\n",
       "      <td>14.601561</td>\n",
       "      <td>44818</td>\n",
       "    </tr>\n",
       "  </tbody>\n",
       "</table>\n",
       "</div>"
      ],
      "text/plain": [
       "  Date_of_Week  Year Month Channel Brand Country         Category Partnership  \\\n",
       "0      18/2/18  2018   Feb   LLLDD    AV      TH  Health & Beauty          MP   \n",
       "1      28/1/18  2018   Jan   LLLDD    AV      SG  Health & Beauty          MP   \n",
       "2      14/1/18  2018   Jan   LLLDD    AV      TH  Health & Beauty          MP   \n",
       "3       4/2/18  2018   Feb   LLLDD    AV      SG  Health & Beauty          MP   \n",
       "4      21/1/18  2018   Jan   LLLDD    AV      TH  Health & Beauty          MP   \n",
       "\n",
       "           NMV        Item        ASP     PV  \n",
       "0  18853.22964  1243.42604  15.162325  41129  \n",
       "1      0.00000     0.00000        NaN    440  \n",
       "2  17608.25665  1213.82701  14.506397  43215  \n",
       "3      0.00000     0.00000        NaN    564  \n",
       "4  18179.10355  1245.01100  14.601561  44818  "
      ]
     },
     "execution_count": 2,
     "metadata": {},
     "output_type": "execute_result"
    }
   ],
   "source": [
    "import pandas as pd\n",
    "import ipywidgets as widgets\n",
    "from ipywidgets import interact, interact_manual\n",
    "\n",
    "# read in the csv file\n",
    "df = pd.read_csv('pivot_raw_data.csv')\n",
    "\n",
    "df.head()"
   ]
  },
  {
   "cell_type": "code",
   "execution_count": null,
   "metadata": {},
   "outputs": [],
   "source": [
    "@interact\n",
    "def show_nmv_more_than(column=['ASP', 'NMV', 'PV', 'Item'], \n",
    "                            x=(10, 100000, 20000)):\n",
    "    return df.loc[df[column] > x]"
   ]
  },
  {
   "cell_type": "markdown",
   "metadata": {},
   "source": [
    "### Widgets for Plots"
   ]
  },
  {
   "cell_type": "markdown",
   "metadata": {},
   "source": [
    "## Show installed versions/dependencies"
   ]
  },
  {
   "cell_type": "code",
   "execution_count": 3,
   "metadata": {},
   "outputs": [
    {
     "data": {
      "text/plain": [
       "'0.24.1'"
      ]
     },
     "execution_count": 3,
     "metadata": {},
     "output_type": "execute_result"
    }
   ],
   "source": [
    "pd.__version__"
   ]
  },
  {
   "cell_type": "code",
   "execution_count": 4,
   "metadata": {},
   "outputs": [
    {
     "name": "stdout",
     "output_type": "stream",
     "text": [
      "\n",
      "INSTALLED VERSIONS\n",
      "------------------\n",
      "commit: None\n",
      "python: 3.6.7.final.0\n",
      "python-bits: 64\n",
      "OS: Windows\n",
      "OS-release: 10\n",
      "machine: AMD64\n",
      "processor: Intel64 Family 6 Model 142 Stepping 9, GenuineIntel\n",
      "byteorder: little\n",
      "LC_ALL: None\n",
      "LANG: None\n",
      "LOCALE: None.None\n",
      "\n",
      "pandas: 0.24.1\n",
      "pytest: 4.0.2\n",
      "pip: 19.1.1\n",
      "setuptools: 41.0.1\n",
      "Cython: 0.29.5\n",
      "numpy: 1.17.1\n",
      "scipy: 1.3.1\n",
      "pyarrow: None\n",
      "xarray: None\n",
      "IPython: 7.6.1\n",
      "sphinx: 1.8.4\n",
      "patsy: 0.5.1\n",
      "dateutil: 2.7.3\n",
      "pytz: 2018.7\n",
      "blosc: None\n",
      "bottleneck: None\n",
      "tables: None\n",
      "numexpr: None\n",
      "feather: None\n",
      "matplotlib: 3.1.0\n",
      "openpyxl: 2.5.12\n",
      "xlrd: 1.2.0\n",
      "xlwt: None\n",
      "xlsxwriter: 1.1.2\n",
      "lxml.etree: 4.2.5\n",
      "bs4: 4.6.3\n",
      "html5lib: None\n",
      "sqlalchemy: 1.2.18\n",
      "pymysql: None\n",
      "psycopg2: None\n",
      "jinja2: 2.10.1\n",
      "s3fs: None\n",
      "fastparquet: None\n",
      "pandas_gbq: None\n",
      "pandas_datareader: 0.7.0\n",
      "gcsfs: None\n"
     ]
    }
   ],
   "source": [
    "pd.show_versions()"
   ]
  },
  {
   "cell_type": "markdown",
   "metadata": {},
   "source": [
    "## Rename columns\n",
    "\n",
    "The most flexible method for renaming columns is the `rename()` method. You pass it a dictionary in which the keys are the old names and the values are the new names, and you also specify the axis:"
   ]
  },
  {
   "cell_type": "code",
   "execution_count": 5,
   "metadata": {},
   "outputs": [],
   "source": [
    "df = df.rename({'col one':'col_one', 'col two':'col_two'}, axis='columns')"
   ]
  },
  {
   "cell_type": "markdown",
   "metadata": {},
   "source": [
    "The best thing about this method is that you can use it to rename any number of columns, whether it be just one column or all columns.\n",
    "\n",
    "Now if you're going to rename all of the columns at once, a simpler method is just to overwrite the columns attribute of the DataFrame:"
   ]
  },
  {
   "cell_type": "code",
   "execution_count": null,
   "metadata": {},
   "outputs": [],
   "source": [
    "# df.columns = ['col_one', 'col_two']"
   ]
  },
  {
   "cell_type": "markdown",
   "metadata": {},
   "source": [
    "## Replace column spaces with underscores, add prefixes"
   ]
  },
  {
   "cell_type": "code",
   "execution_count": 12,
   "metadata": {},
   "outputs": [
    {
     "data": {
      "text/html": [
       "<div>\n",
       "<style scoped>\n",
       "    .dataframe tbody tr th:only-of-type {\n",
       "        vertical-align: middle;\n",
       "    }\n",
       "\n",
       "    .dataframe tbody tr th {\n",
       "        vertical-align: top;\n",
       "    }\n",
       "\n",
       "    .dataframe thead th {\n",
       "        text-align: right;\n",
       "    }\n",
       "</style>\n",
       "<table border=\"1\" class=\"dataframe\">\n",
       "  <thead>\n",
       "    <tr style=\"text-align: right;\">\n",
       "      <th></th>\n",
       "      <th>Date_of_Week_Y</th>\n",
       "      <th>Year_Y</th>\n",
       "      <th>Month_Y</th>\n",
       "      <th>Channel_Y</th>\n",
       "      <th>Brand_Y</th>\n",
       "      <th>Country_Y</th>\n",
       "      <th>Category_Y</th>\n",
       "      <th>Partnership_Y</th>\n",
       "      <th>NMV_Y</th>\n",
       "      <th>Item_Y</th>\n",
       "      <th>ASP_Y</th>\n",
       "      <th>PV_Y</th>\n",
       "    </tr>\n",
       "  </thead>\n",
       "  <tbody>\n",
       "    <tr>\n",
       "      <th>0</th>\n",
       "      <td>18/2/18</td>\n",
       "      <td>2018</td>\n",
       "      <td>Feb</td>\n",
       "      <td>LLLDD</td>\n",
       "      <td>AV</td>\n",
       "      <td>TH</td>\n",
       "      <td>Health &amp; Beauty</td>\n",
       "      <td>MP</td>\n",
       "      <td>18853.22964</td>\n",
       "      <td>1243.42604</td>\n",
       "      <td>15.162325</td>\n",
       "      <td>41129</td>\n",
       "    </tr>\n",
       "    <tr>\n",
       "      <th>1</th>\n",
       "      <td>28/1/18</td>\n",
       "      <td>2018</td>\n",
       "      <td>Jan</td>\n",
       "      <td>LLLDD</td>\n",
       "      <td>AV</td>\n",
       "      <td>SG</td>\n",
       "      <td>Health &amp; Beauty</td>\n",
       "      <td>MP</td>\n",
       "      <td>0.00000</td>\n",
       "      <td>0.00000</td>\n",
       "      <td>NaN</td>\n",
       "      <td>440</td>\n",
       "    </tr>\n",
       "    <tr>\n",
       "      <th>2</th>\n",
       "      <td>14/1/18</td>\n",
       "      <td>2018</td>\n",
       "      <td>Jan</td>\n",
       "      <td>LLLDD</td>\n",
       "      <td>AV</td>\n",
       "      <td>TH</td>\n",
       "      <td>Health &amp; Beauty</td>\n",
       "      <td>MP</td>\n",
       "      <td>17608.25665</td>\n",
       "      <td>1213.82701</td>\n",
       "      <td>14.506397</td>\n",
       "      <td>43215</td>\n",
       "    </tr>\n",
       "    <tr>\n",
       "      <th>3</th>\n",
       "      <td>4/2/18</td>\n",
       "      <td>2018</td>\n",
       "      <td>Feb</td>\n",
       "      <td>LLLDD</td>\n",
       "      <td>AV</td>\n",
       "      <td>SG</td>\n",
       "      <td>Health &amp; Beauty</td>\n",
       "      <td>MP</td>\n",
       "      <td>0.00000</td>\n",
       "      <td>0.00000</td>\n",
       "      <td>NaN</td>\n",
       "      <td>564</td>\n",
       "    </tr>\n",
       "    <tr>\n",
       "      <th>4</th>\n",
       "      <td>21/1/18</td>\n",
       "      <td>2018</td>\n",
       "      <td>Jan</td>\n",
       "      <td>LLLDD</td>\n",
       "      <td>AV</td>\n",
       "      <td>TH</td>\n",
       "      <td>Health &amp; Beauty</td>\n",
       "      <td>MP</td>\n",
       "      <td>18179.10355</td>\n",
       "      <td>1245.01100</td>\n",
       "      <td>14.601561</td>\n",
       "      <td>44818</td>\n",
       "    </tr>\n",
       "  </tbody>\n",
       "</table>\n",
       "</div>"
      ],
      "text/plain": [
       "  Date_of_Week_Y  Year_Y Month_Y Channel_Y Brand_Y Country_Y       Category_Y  \\\n",
       "0        18/2/18    2018     Feb     LLLDD      AV        TH  Health & Beauty   \n",
       "1        28/1/18    2018     Jan     LLLDD      AV        SG  Health & Beauty   \n",
       "2        14/1/18    2018     Jan     LLLDD      AV        TH  Health & Beauty   \n",
       "3         4/2/18    2018     Feb     LLLDD      AV        SG  Health & Beauty   \n",
       "4        21/1/18    2018     Jan     LLLDD      AV        TH  Health & Beauty   \n",
       "\n",
       "  Partnership_Y        NMV_Y      Item_Y      ASP_Y   PV_Y  \n",
       "0            MP  18853.22964  1243.42604  15.162325  41129  \n",
       "1            MP      0.00000     0.00000        NaN    440  \n",
       "2            MP  17608.25665  1213.82701  14.506397  43215  \n",
       "3            MP      0.00000     0.00000        NaN    564  \n",
       "4            MP  18179.10355  1245.01100  14.601561  44818  "
      ]
     },
     "execution_count": 12,
     "metadata": {},
     "output_type": "execute_result"
    }
   ],
   "source": [
    "df.columns = df.columns.str.replace(' ', '_')\n",
    "df.add_prefix('X_')\n",
    "df.add_suffix('_Y').head()"
   ]
  },
  {
   "cell_type": "markdown",
   "metadata": {},
   "source": [
    "## Select columns by dtype"
   ]
  },
  {
   "cell_type": "code",
   "execution_count": 14,
   "metadata": {},
   "outputs": [
    {
     "data": {
      "text/html": [
       "<div>\n",
       "<style scoped>\n",
       "    .dataframe tbody tr th:only-of-type {\n",
       "        vertical-align: middle;\n",
       "    }\n",
       "\n",
       "    .dataframe tbody tr th {\n",
       "        vertical-align: top;\n",
       "    }\n",
       "\n",
       "    .dataframe thead th {\n",
       "        text-align: right;\n",
       "    }\n",
       "</style>\n",
       "<table border=\"1\" class=\"dataframe\">\n",
       "  <thead>\n",
       "    <tr style=\"text-align: right;\">\n",
       "      <th></th>\n",
       "      <th>Date_of_Week</th>\n",
       "      <th>Month</th>\n",
       "      <th>Channel</th>\n",
       "      <th>Brand</th>\n",
       "      <th>Country</th>\n",
       "      <th>Category</th>\n",
       "      <th>Partnership</th>\n",
       "    </tr>\n",
       "  </thead>\n",
       "  <tbody>\n",
       "    <tr>\n",
       "      <th>0</th>\n",
       "      <td>18/2/18</td>\n",
       "      <td>Feb</td>\n",
       "      <td>LLLDD</td>\n",
       "      <td>AV</td>\n",
       "      <td>TH</td>\n",
       "      <td>Health &amp; Beauty</td>\n",
       "      <td>MP</td>\n",
       "    </tr>\n",
       "    <tr>\n",
       "      <th>1</th>\n",
       "      <td>28/1/18</td>\n",
       "      <td>Jan</td>\n",
       "      <td>LLLDD</td>\n",
       "      <td>AV</td>\n",
       "      <td>SG</td>\n",
       "      <td>Health &amp; Beauty</td>\n",
       "      <td>MP</td>\n",
       "    </tr>\n",
       "    <tr>\n",
       "      <th>2</th>\n",
       "      <td>14/1/18</td>\n",
       "      <td>Jan</td>\n",
       "      <td>LLLDD</td>\n",
       "      <td>AV</td>\n",
       "      <td>TH</td>\n",
       "      <td>Health &amp; Beauty</td>\n",
       "      <td>MP</td>\n",
       "    </tr>\n",
       "    <tr>\n",
       "      <th>3</th>\n",
       "      <td>4/2/18</td>\n",
       "      <td>Feb</td>\n",
       "      <td>LLLDD</td>\n",
       "      <td>AV</td>\n",
       "      <td>SG</td>\n",
       "      <td>Health &amp; Beauty</td>\n",
       "      <td>MP</td>\n",
       "    </tr>\n",
       "    <tr>\n",
       "      <th>4</th>\n",
       "      <td>21/1/18</td>\n",
       "      <td>Jan</td>\n",
       "      <td>LLLDD</td>\n",
       "      <td>AV</td>\n",
       "      <td>TH</td>\n",
       "      <td>Health &amp; Beauty</td>\n",
       "      <td>MP</td>\n",
       "    </tr>\n",
       "  </tbody>\n",
       "</table>\n",
       "</div>"
      ],
      "text/plain": [
       "  Date_of_Week Month Channel Brand Country         Category Partnership\n",
       "0      18/2/18   Feb   LLLDD    AV      TH  Health & Beauty          MP\n",
       "1      28/1/18   Jan   LLLDD    AV      SG  Health & Beauty          MP\n",
       "2      14/1/18   Jan   LLLDD    AV      TH  Health & Beauty          MP\n",
       "3       4/2/18   Feb   LLLDD    AV      SG  Health & Beauty          MP\n",
       "4      21/1/18   Jan   LLLDD    AV      TH  Health & Beauty          MP"
      ]
     },
     "execution_count": 14,
     "metadata": {},
     "output_type": "execute_result"
    }
   ],
   "source": [
    "df.select_dtypes(include='object').head()"
   ]
  },
  {
   "cell_type": "code",
   "execution_count": 15,
   "metadata": {},
   "outputs": [
    {
     "data": {
      "text/html": [
       "<div>\n",
       "<style scoped>\n",
       "    .dataframe tbody tr th:only-of-type {\n",
       "        vertical-align: middle;\n",
       "    }\n",
       "\n",
       "    .dataframe tbody tr th {\n",
       "        vertical-align: top;\n",
       "    }\n",
       "\n",
       "    .dataframe thead th {\n",
       "        text-align: right;\n",
       "    }\n",
       "</style>\n",
       "<table border=\"1\" class=\"dataframe\">\n",
       "  <thead>\n",
       "    <tr style=\"text-align: right;\">\n",
       "      <th></th>\n",
       "      <th>Year</th>\n",
       "      <th>NMV</th>\n",
       "      <th>Item</th>\n",
       "      <th>ASP</th>\n",
       "      <th>PV</th>\n",
       "    </tr>\n",
       "  </thead>\n",
       "  <tbody>\n",
       "    <tr>\n",
       "      <th>0</th>\n",
       "      <td>2018</td>\n",
       "      <td>18853.22964</td>\n",
       "      <td>1243.42604</td>\n",
       "      <td>15.162325</td>\n",
       "      <td>41129</td>\n",
       "    </tr>\n",
       "    <tr>\n",
       "      <th>1</th>\n",
       "      <td>2018</td>\n",
       "      <td>0.00000</td>\n",
       "      <td>0.00000</td>\n",
       "      <td>NaN</td>\n",
       "      <td>440</td>\n",
       "    </tr>\n",
       "    <tr>\n",
       "      <th>2</th>\n",
       "      <td>2018</td>\n",
       "      <td>17608.25665</td>\n",
       "      <td>1213.82701</td>\n",
       "      <td>14.506397</td>\n",
       "      <td>43215</td>\n",
       "    </tr>\n",
       "    <tr>\n",
       "      <th>3</th>\n",
       "      <td>2018</td>\n",
       "      <td>0.00000</td>\n",
       "      <td>0.00000</td>\n",
       "      <td>NaN</td>\n",
       "      <td>564</td>\n",
       "    </tr>\n",
       "    <tr>\n",
       "      <th>4</th>\n",
       "      <td>2018</td>\n",
       "      <td>18179.10355</td>\n",
       "      <td>1245.01100</td>\n",
       "      <td>14.601561</td>\n",
       "      <td>44818</td>\n",
       "    </tr>\n",
       "  </tbody>\n",
       "</table>\n",
       "</div>"
      ],
      "text/plain": [
       "   Year          NMV        Item        ASP     PV\n",
       "0  2018  18853.22964  1243.42604  15.162325  41129\n",
       "1  2018      0.00000     0.00000        NaN    440\n",
       "2  2018  17608.25665  1213.82701  14.506397  43215\n",
       "3  2018      0.00000     0.00000        NaN    564\n",
       "4  2018  18179.10355  1245.01100  14.601561  44818"
      ]
     },
     "execution_count": 15,
     "metadata": {},
     "output_type": "execute_result"
    }
   ],
   "source": [
    "df.select_dtypes(include='number').head()"
   ]
  },
  {
   "cell_type": "markdown",
   "metadata": {},
   "source": [
    "## Convert strings to numbers"
   ]
  },
  {
   "cell_type": "code",
   "execution_count": 17,
   "metadata": {},
   "outputs": [
    {
     "data": {
      "text/plain": [
       "Date_of_Week     object\n",
       "Year              int64\n",
       "Month            object\n",
       "Channel          object\n",
       "Brand            object\n",
       "Country          object\n",
       "Category         object\n",
       "Partnership      object\n",
       "NMV             float64\n",
       "Item            float64\n",
       "ASP             float64\n",
       "PV              float64\n",
       "dtype: object"
      ]
     },
     "execution_count": 17,
     "metadata": {},
     "output_type": "execute_result"
    }
   ],
   "source": [
    "df.astype({'NMV':'float', 'PV':'float'}).dtypes"
   ]
  },
  {
   "cell_type": "markdown",
   "metadata": {},
   "source": [
    "However, this would have resulted in an error if you tried to use it on the third column, because that column contains a dash to represent zero and pandas doesn't understand how to handle it.\n",
    "\n",
    "Instead, you can use the `to_numeric()` function on the third column and tell it to convert any invalid input into `NaN` values:"
   ]
  },
  {
   "cell_type": "code",
   "execution_count": 16,
   "metadata": {},
   "outputs": [
    {
     "data": {
      "text/plain": [
       "0       15.162325\n",
       "1             NaN\n",
       "2       14.506397\n",
       "3             NaN\n",
       "4       14.601561\n",
       "5       17.776520\n",
       "6             NaN\n",
       "7             NaN\n",
       "8       15.509837\n",
       "9             NaN\n",
       "10            NaN\n",
       "11      15.281041\n",
       "12      15.226416\n",
       "13      14.722315\n",
       "14      14.486268\n",
       "15      12.503173\n",
       "16            NaN\n",
       "17      12.503173\n",
       "18      12.503173\n",
       "19            NaN\n",
       "20            NaN\n",
       "21      15.561198\n",
       "22      14.714657\n",
       "23      15.185031\n",
       "24      14.945724\n",
       "25      14.343283\n",
       "26       1.993718\n",
       "27       2.733806\n",
       "28       1.713752\n",
       "29       3.289496\n",
       "          ...    \n",
       "3046     1.140962\n",
       "3047          NaN\n",
       "3048          NaN\n",
       "3049     5.913965\n",
       "3050     1.798230\n",
       "3051     1.706737\n",
       "3052     1.433179\n",
       "3053     1.235222\n",
       "3054     1.738556\n",
       "3055     1.794630\n",
       "3056     1.433179\n",
       "3057     1.696422\n",
       "3058     1.232084\n",
       "3059     1.717870\n",
       "3060     1.870599\n",
       "3061     1.433179\n",
       "3062     1.433179\n",
       "3063     1.266001\n",
       "3064     1.430012\n",
       "3065     1.499932\n",
       "3066     1.626143\n",
       "3067     1.455844\n",
       "3068     1.707713\n",
       "3069     1.119830\n",
       "3070     1.642231\n",
       "3071     2.163303\n",
       "3072     1.449068\n",
       "3073     1.622975\n",
       "3074     1.777955\n",
       "3075     1.219596\n",
       "Name: ASP, Length: 3076, dtype: float64"
      ]
     },
     "execution_count": 16,
     "metadata": {},
     "output_type": "execute_result"
    }
   ],
   "source": [
    "pd.to_numeric(df.ASP, errors='coerce')"
   ]
  }
 ],
 "metadata": {
  "kernelspec": {
   "display_name": "Python 3",
   "language": "python",
   "name": "python3"
  },
  "language_info": {
   "codemirror_mode": {
    "name": "ipython",
    "version": 3
   },
   "file_extension": ".py",
   "mimetype": "text/x-python",
   "name": "python",
   "nbconvert_exporter": "python",
   "pygments_lexer": "ipython3",
   "version": "3.6.7"
  }
 },
 "nbformat": 4,
 "nbformat_minor": 4
}
